{
 "cells": [
  {
   "cell_type": "markdown",
   "metadata": {},
   "source": [
    "## EC2 instances\n",
    "\n",
    "This document is just a short information on how to work with EC2 instances. As a general rule:  \n",
    "\n",
    "**At the end of the day, always please have only 1 EC2 instance to your name.**\n",
    "\n",
    "This means that for example, in the morning we started virtual classroom and your Git was misbehaving, so you decided to launch a fresh new instance. During the day you had your old instance and also new instance. What you should do at the end of the day is that you take those few notebooks which you worked on and *terminate* the new instance.  \n",
    "\n",
    "We cannot have too many instances up and running due to cost reasons and we could also easily run out of IP subspace :)"
   ]
  }
 ],
 "metadata": {
  "kernelspec": {
   "display_name": "Python 3",
   "language": "python",
   "name": "python3"
  },
  "language_info": {
   "codemirror_mode": {
    "name": "ipython",
    "version": 3
   },
   "file_extension": ".py",
   "mimetype": "text/x-python",
   "name": "python",
   "nbconvert_exporter": "python",
   "pygments_lexer": "ipython3",
   "version": "3.7.7"
  }
 },
 "nbformat": 4,
 "nbformat_minor": 4
}
