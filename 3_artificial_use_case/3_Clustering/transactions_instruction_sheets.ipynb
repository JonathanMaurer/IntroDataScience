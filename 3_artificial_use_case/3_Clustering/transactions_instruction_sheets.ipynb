{
 "cells": [
  {
   "cell_type": "markdown",
   "metadata": {},
   "source": [
    "# Clustering Notebook\n",
    "\n",
    "In this task, we will work on some clustering problems. The dataset we will be working on is a 52-week of sales transaction report. The **ultimate goal** of this task is to find similar time series in the sales transaction data.\n",
    "\n",
    "## Dataset Information\n",
    "We have only one csv file prepared for you. There are 53 attributes with 811 entries (or rows) in the file.\n",
    "The first column is Product_Code, then we have the rest of 52 columns corresponding to 52 weeks of our sales transactions. The normalised values are also provided.\n"
   ]
  },
  {
   "cell_type": "markdown",
   "metadata": {},
   "source": [
    "## Task: Clustering\n",
    "The steps below are served as a guidance to solve this clustering problem. They are by no means a must or the only way to solve this partcular dataset. Feel free to use what you have learned in the previous program and to be creative. Try to find out your own approach to this problem.\n",
    "\n",
    "1. **Step 1: Data loading & preprocessing**\n",
    "    - load the data into Python Notebook and convert it to the appropriate format (dataframe, numpy.array, list, etc.)\n",
    "    - observe & explore the dataset\n",
    "    - check for null values\n",
    "\n",
    "2. **Step 2: Data modelling**\n",
    "    - standardize the data to normal distribution \n",
    "    - pick one data modelling approach respectively the Python modelling package that you would like to use\n",
    "    - fit the training dataset to the model and train the model\n",
    "    - output the model \n",
    "\n",
    "4. **Step 3: Result extration & interpretation**\n",
    "    - make your conclusions and interpretation on the model and final results\n",
    "    - evaluate the performance of your model and algorithm using different KPIs \n",
    "   \n",
    "**Packages that might be useful for you:**\n",
    "- pandas\n",
    "- numpy\n",
    "- sklearn\n",
    "- sklearn.cluster\n",
    "- matplotlib\n",
    "   \n",
    "### Additional Resources:\n",
    "\n",
    "**Useful links:**\n",
    "- k-means clustering: https://en.wikipedia.org/wiki/K-means_clustering\n",
    "- hierarchical clustering: https://en.wikipedia.org/wiki/Hierarchical_clustering & https://towardsdatascience.com/understanding-the-concept-of-hierarchical-clustering-technique-c6e8243758ec\n",
    "- the elbow method: https://en.wikipedia.org/wiki/Elbow_method_(clustering)#:~:text=In%20cluster%20analysis%2C%20the%20elbow,number%20of%20clusters%20to%20use.\n",
    "\n",
    "    "
   ]
  },
  {
   "cell_type": "markdown",
   "metadata": {},
   "source": [
    "**Dataset citation:**\n",
    "@inproceedings{tan2014time,\n",
    "title={Time series clustering: A superior alternative for market basket analysis},\n",
    "author={Tan, Swee Chuan and San Lau, Jess Pei},\n",
    "booktitle={Proceedings of the First International Conference on Advanced Data and Information Engineering (DaEng-2013)},\n",
    "pages={241--248},\n",
    "year={2014},\n",
    "organization={Springer, Singapore}\n",
    "}\n"
   ]
  }
 ],
 "metadata": {
  "kernelspec": {
   "display_name": "Python 3",
   "language": "python",
   "name": "python3"
  },
  "language_info": {
   "codemirror_mode": {
    "name": "ipython",
    "version": 3
   },
   "file_extension": ".py",
   "mimetype": "text/x-python",
   "name": "python",
   "nbconvert_exporter": "python",
   "pygments_lexer": "ipython3",
   "version": "3.7.7"
  }
 },
 "nbformat": 4,
 "nbformat_minor": 4
}
