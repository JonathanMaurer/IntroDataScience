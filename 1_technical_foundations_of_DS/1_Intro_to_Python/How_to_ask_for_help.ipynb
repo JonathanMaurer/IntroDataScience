{
 "cells": [
  {
   "cell_type": "markdown",
   "metadata": {},
   "source": [
    "# <center> How To Ask For Help <center>"
   ]
  },
  {
   "cell_type": "markdown",
   "metadata": {},
   "source": [
    "It is completely normal to get lost and get stuck in the world of programming. That is why we constructed this section of Python Notebook dedicated for you to speed up your process of getting help. "
   ]
  },
  {
   "cell_type": "markdown",
   "metadata": {},
   "source": [
    "`√ When to ask for help:`\n",
    "Error messages are here to help us to go further and develop ourselves in becoming a well-equipped and more experienced data scientist. We encourage all our participants to try to solve the error messages by themselves before asking for help. However, when you get stuck with an error for too long, please reach us and we are here to help. \n",
    "\n",
    "\n",
    "`√ People to contact:`\n",
    "- Renato Rocha Souza           <renato.rocha-souza@rbinternational.com> \n",
    "\n",
    "`√ There are two ways you can contact us and ask a question:`\n",
    "-\tEmail (strongly recommended for long questions)\n",
    "-\tMicrosoft Teams (strongly recommended for clarifications & short questions)\n",
    "\n",
    "The answer will be delivered through either email or teams, sometimes it can also be done in screensharing format.\n",
    "\n",
    "\n",
    "`√ Things to attach when raising a question:`\n",
    "\n",
    "**Required:**\n",
    "-\tThe name of the **program** you are currently enrolled\n",
    "-\tThe **chapter/section** that your error message(s) arose \n",
    "-\tThe **name of the dataset & the folder** that it is under with (if available)\n",
    "-\t**Screenshots of the code** as well as the **original code** that you have problems with\n",
    "-\t**Screenshots of the error message(s)** (top & bottom)\n",
    "-\tPlease label clearly the **source(s)** of the code (whether your own, our internal training materials, internet, etc.)\n",
    "\n",
    "**Optional:**\n",
    "-\tA short explanation of your errors/what you have tried/things that you are uncertain with etc.\n"
   ]
  },
  {
   "cell_type": "code",
   "execution_count": null,
   "metadata": {},
   "outputs": [],
   "source": []
  }
 ],
 "metadata": {
  "kernelspec": {
   "display_name": "Python 3 (ipykernel)",
   "language": "python",
   "name": "python3"
  },
  "language_info": {
   "codemirror_mode": {
    "name": "ipython",
    "version": 3
   },
   "file_extension": ".py",
   "mimetype": "text/x-python",
   "name": "python",
   "nbconvert_exporter": "python",
   "pygments_lexer": "ipython3",
   "version": "3.8.10"
  }
 },
 "nbformat": 4,
 "nbformat_minor": 4
}
