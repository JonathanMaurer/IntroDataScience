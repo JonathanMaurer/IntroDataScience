{
 "cells": [
  {
   "cell_type": "markdown",
   "metadata": {},
   "source": [
    "## Object Oriented Programming (OOP)\n",
    "\n",
    "There are only two options on how I think you will perceive this lecture. If you have some IT background and already some experience with OOP, this notebook will be a piece of cake. If these notebooks are your first programming experience, you may feel a bit confused at the beginning. Don't worry, once you get a grip of it, the path of OOP in Python will be smooth! The truth is, we have all been there when we first met OOP. \n",
    "\n",
    "## What is OOP?\n",
    "Imagine that you have a store with clothes. You are an IT person which is in charge of software that is supporting this store. The software holds information on all the products that are being offered - prices, sizes, counts, colours, anything. As we are talking about clothes - new pieces of clothing are coming every month. During the first months, you are describing with data structures manually every piece of clothing - what its parameters are, what functions are available in the online shop with regards to this item.\n",
    "\n",
    "After a few months, you get bored by how repetitive your work is! You realize that many items belong into a certain **group**. For example, many items can be simply regarded as *shirts*. Now, each shirt is going to have some **characterists** and certain **actions** can be done with it. For example, it has collar, it covers upper part of body. We are able to filter by the general size, size at waist and also length within our online shop. Each particular shirt is an **object**. The *shirt group* is a  **class** into which all particular objects (shirts) belong. This class is going to have some **methods** which relate to the characteristics of the shirts and what can be done with those. Each particular shirt which is in the store will now **inherit** some properties of the class, which will simplify the job for us.\n",
    "\n",
    "The creation of classes, with respective methods and inheritance for objects will save us a lot of time! **Whenever a new shirt arrives, we just attribute it into shirts class and so it will instantly inherit all the methods.**\n",
    "\n",
    "***"
   ]
  },
  {
   "cell_type": "markdown",
   "metadata": {},
   "source": [
    "## 1. Classes and Objects\n",
    "\n",
    "To begin with this notebook, let's start by looking at the following example:"
   ]
  },
  {
   "cell_type": "code",
   "execution_count": 1,
   "metadata": {},
   "outputs": [],
   "source": [
    "l = [1, 2, 3]\n",
    "s = \"string\"\n",
    "d = {\"a\": 1, \"b\": 2}"
   ]
  },
  {
   "cell_type": "markdown",
   "metadata": {},
   "source": [
    "The code above have variables that consists of various classes. If we use the `type()` function, it will tell us everything:"
   ]
  },
  {
   "cell_type": "code",
   "execution_count": 2,
   "metadata": {},
   "outputs": [
    {
     "name": "stdout",
     "output_type": "stream",
     "text": [
      "<class 'list'>\n",
      "<class 'str'>\n",
      "<class 'dict'>\n"
     ]
    }
   ],
   "source": [
    "print(type(l))\n",
    "print(type(s))\n",
    "print(type(d))"
   ]
  },
  {
   "cell_type": "markdown",
   "metadata": {},
   "source": [
    "We can see that when we used the `type()` function, the values labeled \"class\" is returned. We can deduct that \"type\" and \"class\" are used interchangeably. You see that we've been using classes for some time already:\n",
    "\n",
    "- Python lists are objects of the <b>list</b> class.\n",
    "- Python strings are objects of the <b>str </b>class.\n",
    "- Python dictionaries are objects of the <b>dict</b> class.\n",
    "\n",
    "In this chapter, we will go on a journey of creating a class of our own. We're going to create a simple class called `NewList` and recreate some of the basic functionality of the Python list class.\n",
    "\n",
    "Before we get started, let's look at the relationship between objects and classes.\n",
    "\n",
    "- An <b> object</b> is an entity that stores data.\n",
    "- An object's <b>class</b> defines specific properties objects of that class will have.\n",
    "\n",
    "> A class is a template for objects. A class defines object properties including a valid range of values, and a default value. A class also describes object behavior. \n",
    "\n",
    "> An object is a member or an \"instance\" of a class. \n",
    "An object has a state in which all of its properties have values that you either explicitly define or that are defined by default settings.\n",
    "\n",
    "You can read more about classes and objects here: https://www.javatpoint.com/python-oops-concepts.\n",
    "For people who previously have little programming experience, we highly recommend you to watch this short video explaining [what is object oriented programming](https://www.youtube.com/watch?v=xoL6WvCARJY)."
   ]
  },
  {
   "cell_type": "markdown",
   "metadata": {},
   "source": [
    "## 2. Defining a Class\n",
    "\n",
    "Now the question arises of how we can define a class in Python. It turns out that creating a class is very similar to how we define a function:"
   ]
  },
  {
   "cell_type": "code",
   "execution_count": 1,
   "metadata": {},
   "outputs": [],
   "source": [
    "#This is a function:\n",
    "def my_function():\n",
    "    # the details of the\n",
    "    # function go here\n",
    "    pass\n",
    "    \n",
    "#This is a class:\n",
    "class MyClass():\n",
    "    # the details of the\n",
    "    # class go here\n",
    "    pass"
   ]
  },
  {
   "cell_type": "markdown",
   "metadata": {},
   "source": [
    "Similar to a function, parentheses and a colon are used after the class name ``():`` when defining a class. Just like a function, the body of our class is indented like a function's body is.\n",
    "\n",
    "The rules for naming classes are the same as they are for naming functions and variables.\n",
    "There is a **general rule of thumb in naming functions and classes**: \n",
    "- when naming for variables and and **functions**, all lowercase letters are used with underscores between: `like_this` \n",
    "- And when naming **classes**, there are no underscores are used between words, and the first letter of each word is capitalized: `LikeThis` \n",
    "\n",
    "Following is an example of a definition of a class named ``MyClass``:\n",
    "````python\n",
    "class MyClass():\n",
    "````"
   ]
  },
  {
   "cell_type": "markdown",
   "metadata": {},
   "source": [
    "### Task 2.3.2.1:\n",
    "Define a new class named `NewList()`. Remember to use the `pass` keyword in the body of our class to avoid a SyntaxError."
   ]
  },
  {
   "cell_type": "code",
   "execution_count": 8,
   "metadata": {},
   "outputs": [],
   "source": [
    "#Start your code below:\n",
    "class NewList():\n",
    "    pass"
   ]
  },
  {
   "cell_type": "markdown",
   "metadata": {},
   "source": [
    "In OOP (Object-oriented programming), we use <b> instances </b> to describe each different object. Let's look at an example:"
   ]
  },
  {
   "cell_type": "code",
   "execution_count": 9,
   "metadata": {},
   "outputs": [],
   "source": [
    "#These objects are two instances of the Python str class.\n",
    "string_1 = \"The first string\"\n",
    "\n",
    "string_2 = \"The second string\"\n",
    "\n",
    "#While each is unique - they contain unique values - they are the same type of object."
   ]
  },
  {
   "cell_type": "markdown",
   "metadata": {},
   "source": [
    "Once we have defined our class, we can create an object of that class, which is known as **instantiation**. If you create an object of a particular class, the technical phrase for what you did is to \"instantiate an object of that class.\" Let's learn how to instantiate an instance of our new class:\n",
    "\n",
    "````python\n",
    "my_class_instance = MyClass()\n",
    "````\n",
    "\n",
    "This single line performed two thigns:\n",
    "- Instantiation of an object of the class `MyClass`.\n",
    "- Assignment of this instance to the variable named `my_class_instance`.\n",
    "\n",
    "To illustrate this more clearly, let's look at an example using Python's built-in integer class. In the previous mission, we used the syntax `int()` to convert numeric values stored as strings to integers. Let's look at a simple example of this in code and break down the syntax into parts, which we'll read right-to-left:\n",
    "\n",
    "````python\n",
    "my_int = int(\"5\")\n",
    "````"
   ]
  },
  {
   "cell_type": "markdown",
   "metadata": {},
   "source": [
    "To break this down:\n",
    "- `int(\"5\")` <<< Instantiate an object of the class int\n",
    "- `my_int` <<< Assign the object to a variable with the name `my_int`\n",
    ">The syntax to the right of the assignment operator ``=`` **instantiates** the object, and the assignment operator and variable name create the variable. \n",
    "\n",
    "This helps us understand some of the subtle differences between an object and a variable."
   ]
  },
  {
   "cell_type": "markdown",
   "metadata": {},
   "source": [
    "### Task 2.3.2.2:\n",
    "1. Define a new class called `NewList`:\n",
    "    - Use `NewList()` when defining the class.\n",
    "    - Use the pass keyword so our empty class does not raise a `SyntaxError`.\n",
    "2. Create an instance of the `NewList` class. Assign it to the variable name `newlist_1`.\n",
    "3. Print the type of the `newlist_1` variable."
   ]
  },
  {
   "cell_type": "code",
   "execution_count": 2,
   "metadata": {},
   "outputs": [
    {
     "name": "stdout",
     "output_type": "stream",
     "text": [
      "<class '__main__.NewList'>\n"
     ]
    }
   ],
   "source": [
    "# Start your code below:\n",
    "class NewList():\n",
    "    pass\n",
    "\n",
    "newlist_1 = NewList()\n",
    "print(type(newlist_1))\n",
    "\n"
   ]
  },
  {
   "cell_type": "markdown",
   "metadata": {},
   "source": [
    "Lovely! We have just created and instantiated our fist class! However, our class is lacking some of behaviours, it doesn't do anything yet. \n",
    "That means we need to define some **methods** which allow objects to perform actions.\n",
    "\n",
    "Let's think of methods like special functions that belong to a particular class. This is why we call the replace method `str.replace()` — because the method belongs to the str class.\n",
    "\n",
    "While a function can be used with any object, did you know that each class has its own set of methods? Let's look at an example using some Python built in classes:"
   ]
  },
  {
   "cell_type": "code",
   "execution_count": 3,
   "metadata": {},
   "outputs": [],
   "source": [
    "my_string = \"hello world\"   # an object of the str class\n",
    "my_list = [2, 4, 8]   # an object of the list class"
   ]
  },
  {
   "cell_type": "markdown",
   "metadata": {},
   "source": [
    "All list objects have the `list.append()` method. Let's try this:"
   ]
  },
  {
   "cell_type": "code",
   "execution_count": 4,
   "metadata": {},
   "outputs": [
    {
     "name": "stdout",
     "output_type": "stream",
     "text": [
      "[2, 4, 8, 4]\n"
     ]
    }
   ],
   "source": [
    "my_list.append(4)\n",
    "print(my_list)"
   ]
  },
  {
   "cell_type": "markdown",
   "metadata": {},
   "source": [
    "Also, we have learned the `str.replace()` method in our previous chapter. This method belongs to the string class."
   ]
  },
  {
   "cell_type": "code",
   "execution_count": 13,
   "metadata": {},
   "outputs": [
    {
     "name": "stdout",
     "output_type": "stream",
     "text": [
      "Hello world\n"
     ]
    }
   ],
   "source": [
    "my_string = my_string.replace(\"h\",\"H\")\n",
    "print(my_string)"
   ]
  },
  {
   "cell_type": "markdown",
   "metadata": {},
   "source": [
    "> **The interchanging of one method from one class to another class is forbidden in Python:**"
   ]
  },
  {
   "cell_type": "code",
   "execution_count": 5,
   "metadata": {},
   "outputs": [
    {
     "ename": "AttributeError",
     "evalue": "'str' object has no attribute 'append'",
     "output_type": "error",
     "traceback": [
      "\u001b[1;31m---------------------------------------------------------------------------\u001b[0m",
      "\u001b[1;31mAttributeError\u001b[0m                            Traceback (most recent call last)",
      "\u001b[1;32m<ipython-input-5-775a08d43bf6>\u001b[0m in \u001b[0;36m<module>\u001b[1;34m\u001b[0m\n\u001b[1;32m----> 1\u001b[1;33m \u001b[0mmy_string\u001b[0m\u001b[1;33m.\u001b[0m\u001b[0mappend\u001b[0m\u001b[1;33m(\u001b[0m\u001b[1;34m\"!\"\u001b[0m\u001b[1;33m)\u001b[0m \u001b[1;31m# can't use a method from one class with the other class\u001b[0m\u001b[1;33m\u001b[0m\u001b[1;33m\u001b[0m\u001b[0m\n\u001b[0m",
      "\u001b[1;31mAttributeError\u001b[0m: 'str' object has no attribute 'append'"
     ]
    }
   ],
   "source": [
    "my_string.append(\"!\") # can't use a method from one class with the other class"
   ]
  },
  {
   "cell_type": "markdown",
   "metadata": {},
   "source": [
    "How can we **create a method**? It is almost identical to how we create a function with one exception: the method is indented within our class definition. See example below:"
   ]
  },
  {
   "cell_type": "code",
   "execution_count": 6,
   "metadata": {},
   "outputs": [],
   "source": [
    "class MyClass():\n",
    "    def greet():\n",
    "        return \"hello\""
   ]
  },
  {
   "cell_type": "markdown",
   "metadata": {},
   "source": [
    "### Task 2.3.2.3:\n",
    "\n",
    "1. Define a new class called `NewList()`.\n",
    "    - Use `NewList()` when defining the class, so we can perform answer checking on your class.\n",
    "2. Inside the class, define a method called `first_method()`.\n",
    "3. Inside the method, return the string \"This is my first method\".\n",
    "4. Create an instance of the `NewList` class. Assign it to the variable name `newlist`."
   ]
  },
  {
   "cell_type": "code",
   "execution_count": 7,
   "metadata": {},
   "outputs": [
    {
     "name": "stdout",
     "output_type": "stream",
     "text": [
      "<class '__main__.NewList'>\n"
     ]
    }
   ],
   "source": [
    "# Start your code below:\n",
    "class NewList():\n",
    "    def first_method():\n",
    "        return \"This is my first method\"\n",
    "\n",
    "newlist = NewList()\n",
    "print(type(newlist))"
   ]
  },
  {
   "cell_type": "markdown",
   "metadata": {},
   "source": [
    "## 3. Understading 'self'\n",
    "On the previous paragraphs, we defined a class with a simple method, then created an instance of that class:"
   ]
  },
  {
   "cell_type": "code",
   "execution_count": 8,
   "metadata": {},
   "outputs": [
    {
     "ename": "TypeError",
     "evalue": "first_method() takes 0 positional arguments but 1 was given",
     "output_type": "error",
     "traceback": [
      "\u001b[1;31m---------------------------------------------------------------------------\u001b[0m",
      "\u001b[1;31mTypeError\u001b[0m                                 Traceback (most recent call last)",
      "\u001b[1;32m<ipython-input-8-69a80d67599a>\u001b[0m in \u001b[0;36m<module>\u001b[1;34m\u001b[0m\n\u001b[0;32m      6\u001b[0m \u001b[1;33m\u001b[0m\u001b[0m\n\u001b[0;32m      7\u001b[0m \u001b[1;31m#Let's look at what happens when we call (run) that method:\u001b[0m\u001b[1;33m\u001b[0m\u001b[1;33m\u001b[0m\u001b[1;33m\u001b[0m\u001b[0m\n\u001b[1;32m----> 8\u001b[1;33m \u001b[0minstance\u001b[0m\u001b[1;33m.\u001b[0m\u001b[0mfirst_method\u001b[0m\u001b[1;33m(\u001b[0m\u001b[1;33m)\u001b[0m\u001b[1;33m\u001b[0m\u001b[1;33m\u001b[0m\u001b[0m\n\u001b[0m",
      "\u001b[1;31mTypeError\u001b[0m: first_method() takes 0 positional arguments but 1 was given"
     ]
    }
   ],
   "source": [
    "class NewList():\n",
    "    def first_method():\n",
    "        print(\"hello\")\n",
    "\n",
    "instance = NewList()\n",
    "\n",
    "#Let's look at what happens when we call (run) that method:\n",
    "instance.first_method()"
   ]
  },
  {
   "cell_type": "markdown",
   "metadata": {},
   "source": [
    "This error is a bit confusing. It says that one argument was given to `first_method()`, but when we called the method we didn't provide any arguments. It seems like there is a \"phantom\" argument being inserted somewhere.\n",
    "\n",
    "When we call the `first_method()` method belonging to the instance object, Python interprets that syntax and adds in an argument representing the instance we're calling the method on.\n",
    "\n",
    "We can verify that this is the case by checking it with Python's built-in str type. We'll use `str.title()` to convert a string to title case."
   ]
  },
  {
   "cell_type": "code",
   "execution_count": 9,
   "metadata": {},
   "outputs": [
    {
     "name": "stdout",
     "output_type": "stream",
     "text": [
      "My String\n"
     ]
    }
   ],
   "source": [
    "# create a str object\n",
    "s = \"MY STRING\"\n",
    "\n",
    "# call `str.title() directly\n",
    "# instead of `s.title()`\n",
    "result = str.title(s)\n",
    "print(result)"
   ]
  },
  {
   "cell_type": "markdown",
   "metadata": {},
   "source": [
    "Let's study the following class carefully:"
   ]
  },
  {
   "cell_type": "code",
   "execution_count": 10,
   "metadata": {},
   "outputs": [
    {
     "name": "stdout",
     "output_type": "stream",
     "text": [
      "<__main__.MyClass object at 0x0000022DF8FBFC18>\n"
     ]
    }
   ],
   "source": [
    "class MyClass():\n",
    "    def print_self(self):\n",
    "        print(self)\n",
    "\n",
    "mc = MyClass()\n",
    "\n",
    "#Next, let's print the mc object so we can understand \n",
    "#what the object itself looks like when its printed:\n",
    "\n",
    "print(mc)"
   ]
  },
  {
   "cell_type": "code",
   "execution_count": 11,
   "metadata": {},
   "outputs": [
    {
     "name": "stdout",
     "output_type": "stream",
     "text": [
      "<__main__.MyClass object at 0x0000022DF8FBFC18>\n"
     ]
    }
   ],
   "source": [
    "#Lastly, let's call our print_self() method to see\n",
    "#whether the output is the same as when we printed the object itself:\n",
    "\n",
    "mc.print_self()"
   ]
  },
  {
   "cell_type": "markdown",
   "metadata": {},
   "source": [
    "The same output was displayed both when we printed the object using the syntax `print(mc)` and when we printed the object inside the method using `print_self()` — **which proves that this \"phantom\" argument is the object itself**!\n",
    "\n",
    "Technically, we can give this first argument — which is passed to every method — any parameter name we like. However, the **convention is to call the parameter `self`**. This is an important convention, as without it class definitions can get confusing."
   ]
  },
  {
   "cell_type": "markdown",
   "metadata": {},
   "source": [
    "### Task 2.3.3:\n",
    "\n",
    "In the editor below:\n",
    "1. Modify the `first_method()` method by changing the argument to `self`.\n",
    "2. Create an instance of the NewList class. Assign it to the variable name ``newlist``.\n",
    "3. Call `newlist.first_method()`. Assign the result to the variable ``result``."
   ]
  },
  {
   "cell_type": "code",
   "execution_count": 12,
   "metadata": {},
   "outputs": [
    {
     "name": "stdout",
     "output_type": "stream",
     "text": [
      "This is my first method.\n"
     ]
    }
   ],
   "source": [
    " class NewList():\n",
    "    def first_method(self):\n",
    "        return \"This is my first method.\"\n",
    "newlist = NewList()\n",
    "result = newlist.first_method()\n",
    "print(result)"
   ]
  },
  {
   "cell_type": "markdown",
   "metadata": {},
   "source": [
    "## 4. Creating a Method That Accepts an Argument\n",
    "\n",
    "The method we worked with on the previous two screens didn't accept any arguments except the self argument. Like with functions, methods are often called with one or more arguments so that the method can use or modify that argument.\n",
    "\n",
    "Let's create a method that accepts a string argument and then returns that string. The first argument will always be the object itself, so we'll specify self as the first argument, and the string as our second argument:"
   ]
  },
  {
   "cell_type": "code",
   "execution_count": 22,
   "metadata": {},
   "outputs": [],
   "source": [
    "class MyClass():\n",
    "    def return_string(self, string):\n",
    "        return string"
   ]
  },
  {
   "cell_type": "markdown",
   "metadata": {},
   "source": [
    "Let's instantiate an object and call our method. Notice how when we call it, we leave out the self argument, just like we did on the previous screen:"
   ]
  },
  {
   "cell_type": "code",
   "execution_count": 23,
   "metadata": {},
   "outputs": [
    {
     "name": "stdout",
     "output_type": "stream",
     "text": [
      "Hey there!\n"
     ]
    }
   ],
   "source": [
    "mc = MyClass()\n",
    "result = mc.return_string(\"Hey there!\")\n",
    "print(result)"
   ]
  },
  {
   "cell_type": "markdown",
   "metadata": {},
   "source": [
    "Now it's time to pratice creating methods for our classes.\n",
    "\n",
    "### Task 2.3.4:\n",
    "1. Define a new class called `NewList()`.\n",
    "2. Inside the class, define a method called `return_list()`.\n",
    "    - The method should accept a single argument `input_list` when called.\n",
    "    - Inside the method, return `input_list`.\n",
    "3. Create an instance of the NewList class, and assign it to the variable name `newlist`.\n",
    "4. Call the `newlist.return_list()` method with the argument [1, 2, 3]. Assign the result to the variable `result`."
   ]
  },
  {
   "cell_type": "code",
   "execution_count": 24,
   "metadata": {},
   "outputs": [
    {
     "name": "stdout",
     "output_type": "stream",
     "text": [
      "[1, 2, 3]\n"
     ]
    }
   ],
   "source": [
    "# Start your code below:\n",
    "\n",
    "class NewList():\n",
    "    def return_list(self,input_list):\n",
    "        return input_list\n",
    "newlist = NewList()\n",
    "result = newlist.return_list([1,2,3])\n",
    "print(result)"
   ]
  },
  {
   "cell_type": "markdown",
   "metadata": {},
   "source": [
    "## 5. Atrributes and the Init Method (IMPORTANT)\n",
    "Let's recap what we've already learned since the beginning of this lecture.\n",
    "\n",
    "- We can define a ``class``.\n",
    "- We know that a class can have ``methods``. These are something like a functions or commands which can be performed with the objects belonging to that class.\n",
    "\n",
    "We now need to learn about **2 new things** at the same time, as they are closely related:\n",
    "\n",
    "- init method\n",
    "- attributes\n",
    "\n",
    "The power of objects is in their ability to store data, and data is stored inside objects using **attributes**. You can think of attributes like **special variables that belong to a particular class**. Attributes let us store specific values about each instance of our class. When we instantiate an object, most of the time we specify the data that we want to store inside that object. Let's look at an example of instantiating an int object:"
   ]
  },
  {
   "cell_type": "code",
   "execution_count": 25,
   "metadata": {},
   "outputs": [],
   "source": [
    "my_int = int(\"3\")"
   ]
  },
  {
   "cell_type": "markdown",
   "metadata": {},
   "source": [
    "When `int()` was used, the argument \"3\" was provided, which was converted and stored inside the object. **We define what is done with an arguments provided at instantiation using the init method.**\n",
    "\n",
    "> The init method — also called a ``constructor`` — is a special method that runs when an instance is created so we can perform any tasks to set up the instance.\n",
    "\n",
    "The init method has a **special name that starts and ends with two underscores: `__init__()`**. Let's look at an example:"
   ]
  },
  {
   "cell_type": "code",
   "execution_count": 26,
   "metadata": {},
   "outputs": [
    {
     "name": "stdout",
     "output_type": "stream",
     "text": [
      "Hallo!\n"
     ]
    }
   ],
   "source": [
    "class MyClass():\n",
    "    def __init__(self, string):\n",
    "        print(string)\n",
    "\n",
    "mc = MyClass(\"Hallo!\")"
   ]
  },
  {
   "cell_type": "markdown",
   "metadata": {},
   "source": [
    "Let me give you a step by step guide below:\n",
    "   - defined the `__init__()` method inside our class as accepting two arguments: `self` and `string`.\n",
    "   - Inside the `__init__()` method, the `print()` function on the `string` argument was called.\n",
    "   - mc (our MyClass object) was instantiated, \"Hallo!\" was passed as an argument. The init function ran immediately, displaying the text \"Hallo!\"\n",
    "    \n",
    "The init method's most common usage is to store data as an attribute:"
   ]
  },
  {
   "cell_type": "code",
   "execution_count": 14,
   "metadata": {},
   "outputs": [],
   "source": [
    "class MyClass():\n",
    "    def __init__(self, string):\n",
    "        self.my_attribute = string\n",
    "\n",
    "mc = MyClass(\"Hallo!\") # When we instantiate our new object, \n",
    "# Python calls the init method, passing in the object"
   ]
  },
  {
   "cell_type": "markdown",
   "metadata": {},
   "source": [
    "Our code didn't print any output, but \"Hallo\" was stored in the attribute `my_attribute` inside our object. Like methods, attributes are accessed using dot notation, but attributes don't have parentheses like methods do. Let's use dot notation to access the attribute:"
   ]
  },
  {
   "cell_type": "code",
   "execution_count": 15,
   "metadata": {},
   "outputs": [
    {
     "name": "stdout",
     "output_type": "stream",
     "text": [
      "Hallo!\n"
     ]
    }
   ],
   "source": [
    "print(mc.my_attribute)"
   ]
  },
  {
   "cell_type": "markdown",
   "metadata": {},
   "source": [
    "To summarize some of the differences between attributes and methods:\n",
    "- An attribute is used to store data, very similar to an variable.\n",
    "- A method is used to perform actions, very similar to a function."
   ]
  },
  {
   "cell_type": "markdown",
   "metadata": {},
   "source": [
    "To summarize what we've learned so far:\n",
    "\n",
    "- The power of objects is in their ability to store data.\n",
    "- Data is stored as attributes inside objects.\n",
    "- We access attributes using dot notation.\n",
    "- To give attributes values when we instantiate objects, we pass them as arguments to a special method called `__init__()`, which runs when we instantiate an object.\n",
    "\n",
    "We now have what we need to create a working version of our NewList class! This first version will:\n",
    "\n",
    "- Accept an argument when you instantiate a NewList object.\n",
    "- Use the init method to store that argument in an attribute: `NewList.data`."
   ]
  },
  {
   "cell_type": "markdown",
   "metadata": {},
   "source": [
    "### Task 2.3.5:\n",
    "\n",
    "1. Define a new class called `NewList()`.\n",
    "2. Create an init method which accepts a single argument, `initial_state`.\n",
    "3. Inside the init method, assign `initial_state` to an attribute called `data`.\n",
    "4. Instantiate an object of your NewList class, providing the list [1, 2, 3, 4, 5] as an argument. Assign the object to the variable name `my_list`.\n",
    "5. Use the `print()` function to display the data attribute of `my_list`."
   ]
  },
  {
   "cell_type": "code",
   "execution_count": 16,
   "metadata": {},
   "outputs": [
    {
     "name": "stdout",
     "output_type": "stream",
     "text": [
      "[1, 2, 3, 4, 5]\n"
     ]
    }
   ],
   "source": [
    "# Start your code below:\n",
    "\n",
    "class NewList():\n",
    "    def __init__ (self,initial_state):\n",
    "        self.data = initial_state\n",
    "\n",
    "my_list = NewList([1,2,3,4,5])\n",
    "print(my_list.data)"
   ]
  },
  {
   "cell_type": "markdown",
   "metadata": {},
   "source": [
    "## 6. Creating and Updating an Attribute (OPTIONAL)\n",
    "\n",
    "To summarize the work we've done so far:\n",
    "- We've created a <b>NewList class</b> which stores a list at the point of instantiation using the init constructor.\n",
    "- We stored that list inside an attribute `NewList.data`.\n",
    "    \n",
    "Now we want to add some new functionality: a new attribute. "
   ]
  },
  {
   "cell_type": "markdown",
   "metadata": {},
   "source": [
    "When we want to find the length of a list, we use the `len()` function.\n",
    "What if we created a new attribute, `NewList.length`, which stores the length of our list at all times? We can achieve this by adding some to the init method:"
   ]
  },
  {
   "cell_type": "code",
   "execution_count": 17,
   "metadata": {},
   "outputs": [],
   "source": [
    "class NewList():\n",
    "    \"\"\"\n",
    "    A Python list with some extras!\n",
    "    \"\"\"\n",
    "    def __init__(self, initial_state):\n",
    "        self.data = initial_state\n",
    "\n",
    "        # we added code below this comment\n",
    "        length = 0\n",
    "        for item in self.data:\n",
    "            length += 1\n",
    "        self.length = length\n",
    "        # we added code above this comment\n",
    "\n",
    "    def append(self, new_item):\n",
    "        \"\"\"\n",
    "        Append `new_item` to the NewList\n",
    "        \"\"\"\n",
    "        self.data = self.data + [new_item]"
   ]
  },
  {
   "cell_type": "markdown",
   "metadata": {},
   "source": [
    "Let's have a closer look at what happens when we use the `NewList.length` attribute as defined above:"
   ]
  },
  {
   "cell_type": "code",
   "execution_count": 18,
   "metadata": {},
   "outputs": [
    {
     "name": "stdout",
     "output_type": "stream",
     "text": [
      "3\n",
      "3\n"
     ]
    }
   ],
   "source": [
    "my_list = NewList([1, 2, 3])\n",
    "print(my_list.length)\n",
    "\n",
    "my_list.append(4)\n",
    "print(my_list.length)"
   ]
  },
  {
   "cell_type": "markdown",
   "metadata": {},
   "source": [
    "Because the code we added that defined `NewList.length` was added **only in the init method, if the list is made longer using the `append()` method, our `NewList.length` attribute is no longer accurate.**\n",
    "\n",
    "To address this, we need to run the code that calculates the length after any operation which modifies the data, which, in our case, is just the `append()` method.\n",
    "\n",
    "Rather than writing the code out twice, we can add a helper method, which calculates the length, and just call that method in the appropriate places.\n",
    "\n",
    "Here's a quick example of a helper method in action:"
   ]
  },
  {
   "cell_type": "code",
   "execution_count": 19,
   "metadata": {},
   "outputs": [
    {
     "name": "stdout",
     "output_type": "stream",
     "text": [
      "$3.50\n"
     ]
    }
   ],
   "source": [
    "class MyBankBalance():\n",
    "    \"\"\"\n",
    "    An object that tracks a bank\n",
    "    account balance\n",
    "    \"\"\"\n",
    "\n",
    "    def __init__(self, initial_balance):\n",
    "        self.balance = initial_balance\n",
    "        self.calc_string()\n",
    "\n",
    "    def calc_string(self):\n",
    "        \"\"\"\n",
    "        A helper method to update self.string\n",
    "        \"\"\"\n",
    "        string_balance = \"${:,.2f}\".format(self.balance)\n",
    "        self.string = string_balance\n",
    "\n",
    "    def add_value(self, value):\n",
    "        \"\"\"\n",
    "        Add value to the bank balance\n",
    "        \"\"\"\n",
    "        self.balance += value\n",
    "        self.calc_string()\n",
    "\n",
    "mbb = MyBankBalance(3.50)\n",
    "print(mbb.string)"
   ]
  },
  {
   "cell_type": "markdown",
   "metadata": {},
   "source": [
    "In the code above, a helper method `MyBankBalance.calc_string()` was created. This method calculate a string representation of object's bank balance stored in the attribute `MyBankBalance.string`. We called that helper method from the init method so it updates based on the initial value."
   ]
  },
  {
   "cell_type": "markdown",
   "metadata": {},
   "source": [
    "Another helper method from the `MyBankBalance.add_value()` method was called, so the value updates whenever the balance is increased: "
   ]
  },
  {
   "cell_type": "code",
   "execution_count": 20,
   "metadata": {},
   "outputs": [
    {
     "name": "stdout",
     "output_type": "stream",
     "text": [
      "$20.51\n"
     ]
    }
   ],
   "source": [
    "mbb.add_value(17.01)\n",
    "print(mbb.string)"
   ]
  },
  {
   "cell_type": "code",
   "execution_count": 34,
   "metadata": {},
   "outputs": [
    {
     "name": "stdout",
     "output_type": "stream",
     "text": [
      "$5,020.51\n"
     ]
    }
   ],
   "source": [
    "mbb.add_value(5000)\n",
    "print(mbb.string)"
   ]
  },
  {
   "cell_type": "markdown",
   "metadata": {},
   "source": [
    "We see that our helper methods are defined after our init method. We mentioned earlier that the order in which you define methods within a class doesn't matter, but there is a convention to order methods as follows:\n",
    "\n",
    "1. Init method\n",
    "2. Other methods\n",
    "\n"
   ]
  },
  {
   "cell_type": "code",
   "execution_count": null,
   "metadata": {},
   "outputs": [],
   "source": []
  }
 ],
 "metadata": {
  "kernelspec": {
   "display_name": "Python 3",
   "language": "python",
   "name": "python3"
  },
  "language_info": {
   "codemirror_mode": {
    "name": "ipython",
    "version": 3
   },
   "file_extension": ".py",
   "mimetype": "text/x-python",
   "name": "python",
   "nbconvert_exporter": "python",
   "pygments_lexer": "ipython3",
   "version": "3.7.1"
  }
 },
 "nbformat": 4,
 "nbformat_minor": 4
}
