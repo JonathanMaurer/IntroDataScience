{
 "cells": [
  {
   "cell_type": "markdown",
   "metadata": {},
   "source": [
    "## About This Notebook\n",
    "\n",
    "Our focus in this notebook is twofold. Firstly, we focus on ``understanding modules`` and ``ways to import them``. This is the more crucial part of this Notebook. Without this knowledge, we will hardly be able to move forward. Secondly, we will go into dates and times. Do not worry at all if you don't go too thoroughly through this part. You can always come back to this notebook and read through dates and times when the need will come.\n",
    "\n",
    "The data from date/time contains a lot of information:\n",
    "- Weather data with dates and/or times.\n",
    "- Computer logs with the timestamp for each event.\n",
    "- Sales data with date/time range included.\n",
    "\n",
    "In this session, we will be working with records of visitors of the White House that was published in 2009.\n",
    "***"
   ]
  },
  {
   "cell_type": "markdown",
   "metadata": {},
   "source": [
    "## 1. Importing Modules (IMPORTANT)\n",
    "\n",
    "In earlier notebooks, we used the csv module to make reading CSV files easier. \n",
    "> In Python, a **module** is simply a collection of variables, functions, and/or classes (which we'll collectively call 'definitions') that can be imported into a Python script.\n",
    "\n",
    "**Python contains many standard modules** that help us perform various tasks, such as performing advanced mathematical operations, working with specific file formats and databases, and working with dates and times.\n",
    "\n",
    "The **csv module** is one of the many standard modules from Python.\n",
    "\n",
    "Whenever we use definitions from a module, we first need to import those definitions. There are a number of ways we can import modules and their definitions using the import statement. You can ready more about the import statement under [this](https://docs.python.org/3/reference/simple_stmts.html#import). \n",
    "\n",
    "*Note: Please notice that the cells below are formatted as raw text (not as a code). We do not want to create a mess by importing same module several times, in different ways.*\n",
    "\n",
    "#### 1. Import the whole module by name. This is the most common method for importing a module."
   ]
  },
  {
   "cell_type": "markdown",
   "metadata": {},
   "source": [
    "````python\n",
    "# import the module\n",
    "import csv\n",
    "\n",
    "# definitions are available using the format\n",
    "# module_name.definition_name\n",
    "csv.reader()\n",
    "````"
   ]
  },
  {
   "cell_type": "markdown",
   "metadata": {},
   "source": [
    "#### 2. Import the whole module with an ``alias``. This is especially useful if a module is long and we need to type it a lot."
   ]
  },
  {
   "cell_type": "markdown",
   "metadata": {},
   "source": [
    "````python\n",
    "# import the module with an alias\n",
    "import csv as c\n",
    "\n",
    "# definitions are available using the format\n",
    "# alias.definition_name\n",
    "c.reader()\n",
    "````"
   ]
  },
  {
   "cell_type": "markdown",
   "metadata": {},
   "source": [
    "#### 3. Import one or more definitions from the module by name. This is the technique we've used so far. This technique is useful if you want only a single or select definitions and don't want to import everything."
   ]
  },
  {
   "cell_type": "markdown",
   "metadata": {},
   "source": [
    "````python\n",
    "# import a single definition\n",
    "from csv import reader\n",
    "\n",
    "# the definition you imported is available\n",
    "# by name\n",
    "reader()\n",
    "````"
   ]
  },
  {
   "cell_type": "markdown",
   "metadata": {},
   "source": [
    "````python\n",
    "# import multiple definitions\n",
    "from csv import reader, writer\n",
    "\n",
    "# the definitions you imported are available\n",
    "# using the format definition_name\n",
    "reader()\n",
    "writer()\n",
    "````"
   ]
  },
  {
   "cell_type": "markdown",
   "metadata": {},
   "source": [
    "#### 4. Import all definitions with a wildcard. This is useful if you want to import and use many definitions from a module."
   ]
  },
  {
   "cell_type": "markdown",
   "metadata": {},
   "source": [
    "````python\n",
    "# import all definitions\n",
    "from csv import *\n",
    "\n",
    "# all definitions from the module are\n",
    "# available using the format definition_name\n",
    "reader()\n",
    "writer()\n",
    "get_dialect()``\n",
    "````"
   ]
  },
  {
   "cell_type": "markdown",
   "metadata": {},
   "source": [
    "Choosing which option to use when importing is often a matter of taste, but it's good to keep in mind how each choice can affect the readability of your code:\n",
    "\n",
    "- If we're importing a long-name module by name and using it often, our code can become harder to read.\n",
    "- If we use an uncommon alias, it may not be clear in our code which module we are using.\n",
    "- If we use the specific definition or wildcard approach, and the script is long or complex, it may not be immediately clear where a definition comes from. This can also be a problem if we use this approach with multiple modules.\n",
    "- If we use the specific definition or wildcard approach, it's easier to accidentally overwrite an imported definition.\n",
    "\n",
    "In the end, there is often more than one \"correct\" way, so the most important thing is to be mindful of the trade-offs when you make a decision on how to import definitions from modules.\n",
    "\n",
    "We'll learn about these trade-offs in the next screen as we learn about Python's datetime module, and make a decision on how to import it for our needs."
   ]
  },
  {
   "cell_type": "markdown",
   "metadata": {},
   "source": [
    "## 2. The Datetime Module\n",
    "\n",
    "There are three standard modules in Python that can help us working with dates and times.\n",
    "- The calendar module\n",
    "- The time module\n",
    "- The datetime module\n",
    "\n",
    "The module that we will go in deep into is the\n",
    "[datetime module](https://docs.python.org/3/library/datetime.html#module-datetime). \n",
    "\n",
    "The datetime module contains a number of classes, including:\n",
    "\n",
    "- datetime.datetime: For working with date and time data.\n",
    "- datetime.time: For working with time data only.\n",
    "- datetime.timedelta: For representing time periods.\n",
    "\n",
    "You see that the first class, datetime, has the same name as the module. This could create confusion in our code. Now, let's look at different ways of importing and working with this first class, and the pros and cons.\n",
    "\n",
    "<b>Import the whole module by name</b>\n",
    "- Pro: It's super clear whenever you use datetime whether you're referring to the module or the class.\n",
    "- Con: It has the potential to create long lines of code, which can be harder to read.\n",
    "See example below:"
   ]
  },
  {
   "cell_type": "markdown",
   "metadata": {},
   "source": [
    "````python\n",
    "# import the datetime module\n",
    "import datetime\n",
    "\n",
    "# use the datetime class\n",
    "my_datetime_object = datetime.datetime()\n",
    "# the first datetime represents the datetime module\n",
    "# the second datetime represents the datetime class\n",
    "\n",
    "````"
   ]
  },
  {
   "cell_type": "markdown",
   "metadata": {},
   "source": [
    "<b>Import definitions via name or wildcard</b>\n",
    "- Pro: Shorter lines of code, which are easier to read.\n",
    "- Con: When we use datetime, it's not clear whether we are referring to the module or the class.\n",
    "\n",
    "See Example below:"
   ]
  },
  {
   "cell_type": "markdown",
   "metadata": {},
   "source": [
    "````python\n",
    "# import the datetime module\n",
    "from datetime import datetime \n",
    "\n",
    "# import all definitions using wildcard\n",
    "from datetime import *\n",
    "\n",
    "# use the datetime class\n",
    "my_datetime_object = datetime()\n",
    "````"
   ]
  },
  {
   "cell_type": "markdown",
   "metadata": {},
   "source": [
    "<b> Import whole module by alias </b>\n",
    "- Pro: There is no ambiguity between dt (alias for the module) and dt.datetime (the class).\n",
    "- Con: The dt alias isn't common convention, which would cause some confusion for other people reading our code.\n",
    "See example below:"
   ]
  },
  {
   "cell_type": "markdown",
   "metadata": {},
   "source": [
    "````python\n",
    "# import the datetime module \n",
    "import datetime as dt\n",
    "\n",
    "# use the datetime class\n",
    "my_datetime_object = dt.datetime()\n",
    "\n",
    "# dt is the alias for the datetime module\n",
    "# datetime() is the datetime class as we mentioned before\n",
    "````"
   ]
  },
  {
   "cell_type": "markdown",
   "metadata": {},
   "source": [
    "### Task 2.4.2:\n",
    "Your exercise will be to import datetime module with the alias dt"
   ]
  },
  {
   "cell_type": "code",
   "execution_count": 1,
   "metadata": {},
   "outputs": [],
   "source": [
    "#Start your code below:\n",
    "\n",
    "\n",
    "import datetime as dt\n"
   ]
  },
  {
   "cell_type": "markdown",
   "metadata": {},
   "source": [
    "## 3. The Datetime Class\n",
    "\n",
    "The datetime.datetime class is the most commonly-used class from the datetime module, and has attributes and methods designed to work with data containing both the date and time. The signature of the class is below (with some lesser used parameters omitted):"
   ]
  },
  {
   "cell_type": "markdown",
   "metadata": {},
   "source": [
    "datetime.datetime(year, month, day, hour=0, minute=0, second=0)"
   ]
  },
  {
   "cell_type": "markdown",
   "metadata": {},
   "source": [
    "The above code indicates that the year, month, and day arguments are required. The time arguments are option and can be set to the equivalent of midnight if omitted.\n",
    "\n",
    "Now, let's take a look at an example of creating a datetime object."
   ]
  },
  {
   "cell_type": "code",
   "execution_count": 2,
   "metadata": {},
   "outputs": [
    {
     "name": "stdout",
     "output_type": "stream",
     "text": [
      "2000-01-01 00:00:00\n",
      "1990-04-22 21:26:02\n"
     ]
    }
   ],
   "source": [
    "# we'll import the datetime module and give it the alias dt\n",
    "import datetime as dt\n",
    "\n",
    "# we'll instantiate an object representing January 1, 2000\n",
    "eg_1 = dt.datetime(2000, 1, 1)\n",
    "print(eg_1)\n",
    "\n",
    "# Let's instantiate a second object\n",
    "# this time with both a date and a time\n",
    "eg_2 = dt.datetime(1990, 4, 22, 21, 26, 2)\n",
    "print(eg_2)"
   ]
  },
  {
   "cell_type": "markdown",
   "metadata": {},
   "source": [
    "This object represents 26 minutes and 2 seconds past 9 p.m. on the 22th of April, 1990."
   ]
  },
  {
   "cell_type": "markdown",
   "metadata": {},
   "source": [
    "We can specify some but not all time arguments — in the following example we pass a value for hour and minute but not for second:"
   ]
  },
  {
   "cell_type": "code",
   "execution_count": 3,
   "metadata": {},
   "outputs": [
    {
     "name": "stdout",
     "output_type": "stream",
     "text": [
      "1997-10-07 09:22:00\n"
     ]
    }
   ],
   "source": [
    "import datetime as dt\n",
    "\n",
    "eg_3 = dt.datetime(1997, 10, 7, 9, 22)\n",
    "print(eg_3)"
   ]
  },
  {
   "cell_type": "markdown",
   "metadata": {},
   "source": [
    "This object \"eg_3\" represents 9:22 a.m. on the 7th of October, 1997."
   ]
  },
  {
   "cell_type": "markdown",
   "metadata": {},
   "source": [
    "### Task 2.4.3:\n",
    "\n",
    "1. Import the datetime class using the alias `dt`.\n",
    "2. Instantiate a datetime object representing midnight on June 16, 1911. Assign the object to the variable name `ibm_founded`.\n",
    "3. Instantiate a datetime object representing 8:17 p.m. on July 20, 1969. Assign the object to the variable name `man_on_moon`."
   ]
  },
  {
   "cell_type": "code",
   "execution_count": 4,
   "metadata": {},
   "outputs": [
    {
     "name": "stdout",
     "output_type": "stream",
     "text": [
      "1911-06-16 00:00:00\n",
      "1969-07-20 08:17:00\n"
     ]
    }
   ],
   "source": [
    "# Start your code below:\n",
    "\n",
    "import datetime as dt\n",
    "ibm_founded = dt.datetime(1911,6,16,0,0)\n",
    "print(ibm_founded)\n",
    "\n",
    "man_on_moon = dt.datetime(1969,7,20,8,17)\n",
    "print(man_on_moon)"
   ]
  },
  {
   "cell_type": "markdown",
   "metadata": {},
   "source": [
    "## 4. Using Strptime to Parse Strings as Dates\n",
    "\n"
   ]
  },
  {
   "cell_type": "markdown",
   "metadata": {},
   "source": [
    "Take a look at the code cell below. What we do there is that we are trying to turn a date and time information stored in a string into a datetime object. It is a bit tricky as we need to use various methods to clean the string."
   ]
  },
  {
   "cell_type": "code",
   "execution_count": 5,
   "metadata": {},
   "outputs": [
    {
     "name": "stdout",
     "output_type": "stream",
     "text": [
      "0015-12-18 16:39:00\n",
      "<class 'datetime.datetime'>\n"
     ]
    }
   ],
   "source": [
    "import datetime as dt\n",
    "\n",
    "date_string = '12/18/15 16:39'\n",
    "\n",
    "#Split date_string into two strings, either side of the space character\n",
    "date,time = date_string.split()\n",
    "\n",
    "#Split into string date components by their respective separators\n",
    "hr, mn = time.split(':')\n",
    "mnth, day, yr = date.split('/')\n",
    "\n",
    "#Convert the string date components to integer components\n",
    "hr = int(hr)\n",
    "mn = int(mn)\n",
    "mnth = int(mnth)\n",
    "day = int(day)\n",
    "yr = int(yr)\n",
    "\n",
    "#Use the integer components to instantiate a datetime object\n",
    "date_dt = dt.datetime(yr, mnth, day, hr, mn)\n",
    "\n",
    "print(date_dt)\n",
    "print(type(date_dt))"
   ]
  },
  {
   "cell_type": "markdown",
   "metadata": {},
   "source": [
    "We see that <b>datetime.strptime() </b>[constructor](https://docs.python.org/3/library/datetime.html#datetime.datetime.strptime) returns a datetime object. It defined the datetime object using a syntax system to describe date and time formats called <b>strftime</b>. (Pay attention to strftime with an \"f\" versus the constructor strptime with a \"p\".)\n",
    "\n",
    "The strftime syntax consists of a <b>%</b> character followed by a single character which specifies a date or time part in a particular format.\n",
    "\n",
    "For example \"09/102/1998\":"
   ]
  },
  {
   "cell_type": "code",
   "execution_count": 6,
   "metadata": {},
   "outputs": [
    {
     "data": {
      "text/plain": [
       "datetime.datetime(1998, 2, 9, 0, 0)"
      ]
     },
     "execution_count": 6,
     "metadata": {},
     "output_type": "execute_result"
    }
   ],
   "source": [
    "from datetime import datetime\n",
    "\n",
    "datetime.strptime(\"09/02/1998\", \"%d/%m/%Y\")\n",
    "\n",
    "#%d - the day of the month in a two digit format, eg \"09\"\n",
    "#%m - the month of the year in a two digit format, eg \"02\"\n",
    "#%Y - the year in a four digit format, eg \"1998\""
   ]
  },
  {
   "cell_type": "markdown",
   "metadata": {},
   "source": [
    "The first argument from the `datetime.strptime()` constructor is the string we want to parse, and the second argument is a string that helps us specify the format of the datetime object.\n",
    "\n",
    "The %d, %m, and %Y format codes specify a two-digit day, two-digit month, and four-digit year respectively, and the forward slashes between them specify the forward slashes in the original string. Let's take a look at an example below:"
   ]
  },
  {
   "cell_type": "code",
   "execution_count": 7,
   "metadata": {},
   "outputs": [
    {
     "name": "stdout",
     "output_type": "stream",
     "text": [
      "<class 'datetime.datetime'>\n",
      "1984-12-24 00:00:00\n"
     ]
    }
   ],
   "source": [
    "date_1_str = \"24/12/1984\"\n",
    "date_1_dt = dt.datetime.strptime(date_1_str, \"%d/%m/%Y\")\n",
    "print(type(date_1_dt))\n",
    "print(date_1_dt)"
   ]
  },
  {
   "cell_type": "markdown",
   "metadata": {},
   "source": [
    "Do you see that the constructor returns a datetime object?\n",
    "\n",
    "Now, let's look at another example: \"12-24-1984\", the same exact date as above. What's different is the date parts are separated using a dash instead of a slash, in addition the order of the day and month are reversed:"
   ]
  },
  {
   "cell_type": "code",
   "execution_count": 8,
   "metadata": {},
   "outputs": [
    {
     "name": "stdout",
     "output_type": "stream",
     "text": [
      "1984-12-24 00:00:00\n"
     ]
    }
   ],
   "source": [
    "date_2_str = \"12-24-1984\"\n",
    "date_2_dt = dt.datetime.strptime(date_2_str, \"%m-%d-%Y\")\n",
    "print(date_2_dt)\n",
    "\n",
    "# %m - the month of the year in a wo digit format\n",
    "# %d - the day of the month in a two digit format\n",
    "# %Y - the year in a four digit format"
   ]
  },
  {
   "cell_type": "markdown",
   "metadata": {},
   "source": [
    "Below is a table of the most common format codes, take a look and simply know their existance. You don't need to known them by heart, you can always look them up in the [Python documentation] (https://docs.python.org/3/library/datetime.html#strftime-strptime-behavior)\n",
    "\n",
    "|Strftime Code| Meaning| Examples|\n",
    "|-|-|-|\n",
    "|%d|Day of the month as a zero-padded number1|04|\n",
    "|%A|Day of the week as a word2|Monday|\n",
    "|%m|Month as a zero-padded number1|09|\n",
    "|%Y|Year as a four-digit number|1901|\n",
    "|%y|Year as a two-digit number with zero-padding1, 3|01 (2001), 88 (1988)|\n",
    "|%B|Month as a word2|September|\n",
    "|%H|Hour in 24 hour time as zero-padded number1|05 (5 a.m.),15 (3 p.m.)|\n",
    "|%p|a.m. or p.m.2|AM|\n",
    "|%I|Hour in 12 hour time as zero-padded number1|05 (5 a.m., or 5 p.m. if AM/PM indicates otherwise)|\n",
    "|%M|Minute as a zero-padded number1|07|"
   ]
  },
  {
   "cell_type": "markdown",
   "metadata": {},
   "source": [
    "## 5. Using Strftime to format dates\n",
    "\n",
    "Below is a list of attributes from the <b> datetime </b> class, which can help us retrieve the various parts that make up the date stored within the object much easier:\n",
    "\n",
    "- `datetime.day:` The day of the month.\n",
    "- `datetime.month:` The month of the year.\n",
    "- `datetime.year:` The year.\n",
    "- `datetime.hour:` The hour of the day.\n",
    "- `datetime.minute:` The minute of the hour.\n",
    "\n",
    "How can we use those attributes to extract the values? Look at the example below:"
   ]
  },
  {
   "cell_type": "code",
   "execution_count": 9,
   "metadata": {},
   "outputs": [
    {
     "name": "stdout",
     "output_type": "stream",
     "text": [
      "24/12/1984\n",
      "<class 'str'>\n"
     ]
    }
   ],
   "source": [
    "dt_object = dt.datetime(1984, 12, 24)\n",
    "\n",
    "# We retrieve day value\n",
    "day = dt_object.day \n",
    "\n",
    "# We retrieve month value\n",
    "month = dt_object.month\n",
    "\n",
    "# We retrieve year value\n",
    "year = dt_object.year\n",
    "\n",
    "# We use the retrieved value and form a new string\n",
    "dt_string = \"{}/{}/{}\".format(day, month, year)\n",
    "print(dt_string)\n",
    "print(type(dt_string))"
   ]
  },
  {
   "cell_type": "markdown",
   "metadata": {},
   "source": [
    "It seems like what we performed above is a lot of code. There is a much easier method called [<b> datetime.strftime() </b>](https://docs.python.org/3/library/datetime.html#datetime.datetime.strftime), which will return a string representation of the date using the strftime syntax. Don't mix up strptime and strftime:\n",
    "- strptime >> str-p-time >> string parse time\n",
    "- strftime >> str-f-time >> string format time\n",
    "\n",
    "With the `strftime()` method we can use %d, %m, and %Y to represent the date, month, and year."
   ]
  },
  {
   "cell_type": "code",
   "execution_count": 10,
   "metadata": {},
   "outputs": [
    {
     "name": "stdout",
     "output_type": "stream",
     "text": [
      "24/12/1984\n"
     ]
    }
   ],
   "source": [
    "dt_object = dt.datetime(1984, 12, 24)\n",
    "dt_string = dt_object.strftime(\"%d/%m/%Y\")\n",
    "print(dt_string)"
   ]
  },
  {
   "cell_type": "markdown",
   "metadata": {},
   "source": [
    "Another way is, we can use <b> %B</b> to represent the month as a word:"
   ]
  },
  {
   "cell_type": "code",
   "execution_count": 11,
   "metadata": {},
   "outputs": [
    {
     "name": "stdout",
     "output_type": "stream",
     "text": [
      "December 24, 1984\n"
     ]
    }
   ],
   "source": [
    "dt_string = dt_object.strftime(\"%B %d, %Y\")\n",
    "print(dt_string)"
   ]
  },
  {
   "cell_type": "markdown",
   "metadata": {},
   "source": [
    "What else can we do? For a more granular representation of the time, we can use %A, %I, %M, and %p to represent the day of the week, the hour of the day, the minute of the hour, and a.m./p.m.:"
   ]
  },
  {
   "cell_type": "code",
   "execution_count": 12,
   "metadata": {},
   "outputs": [
    {
     "name": "stdout",
     "output_type": "stream",
     "text": [
      "Monday December 24 at 12:00 AM\n"
     ]
    }
   ],
   "source": [
    "dt_string = dt_object.strftime(\"%A %B %d at %I:%M %p\")\n",
    "print(dt_string)"
   ]
  },
  {
   "cell_type": "markdown",
   "metadata": {},
   "source": [
    "## 6. The Time Class\n",
    "\n",
    "The time class holds only time data: hours, minutes, seconds, and microseconds.\n",
    "An example to instantiate a time object is like this:"
   ]
  },
  {
   "cell_type": "code",
   "execution_count": 13,
   "metadata": {},
   "outputs": [
    {
     "data": {
      "text/plain": [
       "datetime.time(0, 0)"
      ]
     },
     "execution_count": 13,
     "metadata": {},
     "output_type": "execute_result"
    }
   ],
   "source": [
    "import datetime\n",
    "\n",
    "datetime.time(hour=0, minute=0, second=0, microsecond=0)"
   ]
  },
  {
   "cell_type": "markdown",
   "metadata": {},
   "source": [
    "It is also possible to instantiate a time object without arguments. It will simply represent the time \"0:00:00\" (midnight). Otherwise, we can pass arguments for any or all of the hour, minute and second and microsecond parameters. Let's look at an example for the time 6:30 p.m.:"
   ]
  },
  {
   "cell_type": "code",
   "execution_count": 14,
   "metadata": {},
   "outputs": [
    {
     "name": "stdout",
     "output_type": "stream",
     "text": [
      "18:30:00\n"
     ]
    }
   ],
   "source": [
    "two_thirty = dt.time(18, 30)\n",
    "print(two_thirty)"
   ]
  },
  {
   "cell_type": "markdown",
   "metadata": {},
   "source": [
    "Pay attention that we provided arguments in 24-hour time (an integer between 0 and 23). Let's look at an example of instantiating a time object for five seconds after 10 a.m.:"
   ]
  },
  {
   "cell_type": "code",
   "execution_count": 15,
   "metadata": {},
   "outputs": [
    {
     "name": "stdout",
     "output_type": "stream",
     "text": [
      "10:00:05\n"
     ]
    }
   ],
   "source": [
    "five_sec_after_10am = dt.time(10,0,5)\n",
    "print(five_sec_after_10am)"
   ]
  },
  {
   "cell_type": "markdown",
   "metadata": {},
   "source": [
    "We can also create a time object from a datetime object, using the `datetime.datetime.time()` method. This method returns a time object representing the time data from the datetime object."
   ]
  },
  {
   "cell_type": "code",
   "execution_count": 16,
   "metadata": {},
   "outputs": [
    {
     "name": "stdout",
     "output_type": "stream",
     "text": [
      "1963-11-22 12:30:00\n"
     ]
    }
   ],
   "source": [
    "# Version one\n",
    "jfk_shot_dt = dt.datetime(1963, 11, 22, 12, 30)\n",
    "print(jfk_shot_dt)"
   ]
  },
  {
   "cell_type": "code",
   "execution_count": 17,
   "metadata": {},
   "outputs": [
    {
     "name": "stdout",
     "output_type": "stream",
     "text": [
      "12:30:00\n"
     ]
    }
   ],
   "source": [
    "# Version two\n",
    "jfk_shot_t = jfk_shot_dt.time()\n",
    "print(jfk_shot_t)"
   ]
  },
  {
   "cell_type": "markdown",
   "metadata": {},
   "source": [
    "There is no `strptime()` constructor within the time class.  But if we need to parse times in string form, `datetime.strptime()` can be used and then convert directly to a time object like this:"
   ]
  },
  {
   "cell_type": "code",
   "execution_count": 18,
   "metadata": {},
   "outputs": [
    {
     "name": "stdout",
     "output_type": "stream",
     "text": [
      "1900-01-01 08:00:00\n"
     ]
    }
   ],
   "source": [
    "time_str = \"8:00\"\n",
    "time_dt = dt.datetime.strptime(time_str,\"%H:%M\")\n",
    "print(time_dt)"
   ]
  },
  {
   "cell_type": "code",
   "execution_count": 19,
   "metadata": {},
   "outputs": [
    {
     "name": "stdout",
     "output_type": "stream",
     "text": [
      "08:00:00\n"
     ]
    }
   ],
   "source": [
    "time_t = time_dt.time()\n",
    "print(time_t)"
   ]
  },
  {
   "cell_type": "markdown",
   "metadata": {},
   "source": [
    "## 7. Comparing time objects\n",
    "\n",
    "One of the best features of time objects is comparison. Take a look at the comparison example below:"
   ]
  },
  {
   "cell_type": "code",
   "execution_count": 20,
   "metadata": {},
   "outputs": [
    {
     "name": "stdout",
     "output_type": "stream",
     "text": [
      "True\n"
     ]
    }
   ],
   "source": [
    "t1 = dt.time(15, 30)\n",
    "t2 = dt.time(10, 45)\n",
    "\n",
    "comparison = t1 > t2\n",
    "print(comparison)"
   ]
  },
  {
   "cell_type": "markdown",
   "metadata": {},
   "source": [
    "There are also Python built-in functions like <b>min()</b>and <b> max()</b> that we can use for time class:"
   ]
  },
  {
   "cell_type": "code",
   "execution_count": 21,
   "metadata": {},
   "outputs": [
    {
     "name": "stdout",
     "output_type": "stream",
     "text": [
      "08:00:00\n"
     ]
    }
   ],
   "source": [
    "times = [\n",
    "           dt.time(23, 30),\n",
    "           dt.time(14, 45),\n",
    "           dt.time(8, 0)\n",
    "        ]\n",
    "\n",
    "print(min(times))"
   ]
  },
  {
   "cell_type": "code",
   "execution_count": 22,
   "metadata": {},
   "outputs": [
    {
     "name": "stdout",
     "output_type": "stream",
     "text": [
      "23:30:00\n"
     ]
    }
   ],
   "source": [
    "print(max(times))"
   ]
  },
  {
   "cell_type": "markdown",
   "metadata": {},
   "source": [
    "## 8. Calculations with Dates and Times\n",
    "Do you know that just like time objects, datetime objects also support comparison operators like `>` and `<`. Let's try out with mathematical operators like `-` and `+` to see if they work too, starting with `+`:"
   ]
  },
  {
   "cell_type": "code",
   "execution_count": 23,
   "metadata": {},
   "outputs": [
    {
     "ename": "TypeError",
     "evalue": "unsupported operand type(s) for +: 'datetime.datetime' and 'datetime.datetime'",
     "output_type": "error",
     "traceback": [
      "\u001b[1;31m---------------------------------------------------------------------------\u001b[0m",
      "\u001b[1;31mTypeError\u001b[0m                                 Traceback (most recent call last)",
      "\u001b[1;32m<ipython-input-23-c22ee8abc0aa>\u001b[0m in \u001b[0;36m<module>\u001b[1;34m\u001b[0m\n\u001b[0;32m      1\u001b[0m \u001b[0mdt1\u001b[0m \u001b[1;33m=\u001b[0m \u001b[0mdt\u001b[0m\u001b[1;33m.\u001b[0m\u001b[0mdatetime\u001b[0m\u001b[1;33m(\u001b[0m\u001b[1;36m2022\u001b[0m\u001b[1;33m,\u001b[0m \u001b[1;36m4\u001b[0m\u001b[1;33m,\u001b[0m \u001b[1;36m14\u001b[0m\u001b[1;33m)\u001b[0m\u001b[1;33m\u001b[0m\u001b[1;33m\u001b[0m\u001b[0m\n\u001b[0;32m      2\u001b[0m \u001b[0mdt2\u001b[0m \u001b[1;33m=\u001b[0m \u001b[0mdt\u001b[0m\u001b[1;33m.\u001b[0m\u001b[0mdatetime\u001b[0m\u001b[1;33m(\u001b[0m\u001b[1;36m2022\u001b[0m\u001b[1;33m,\u001b[0m \u001b[1;36m3\u001b[0m\u001b[1;33m,\u001b[0m \u001b[1;36m29\u001b[0m\u001b[1;33m)\u001b[0m\u001b[1;33m\u001b[0m\u001b[1;33m\u001b[0m\u001b[0m\n\u001b[1;32m----> 3\u001b[1;33m \u001b[0mprint\u001b[0m\u001b[1;33m(\u001b[0m\u001b[0mdt1\u001b[0m \u001b[1;33m+\u001b[0m \u001b[0mdt2\u001b[0m\u001b[1;33m)\u001b[0m\u001b[1;33m\u001b[0m\u001b[1;33m\u001b[0m\u001b[0m\n\u001b[0m",
      "\u001b[1;31mTypeError\u001b[0m: unsupported operand type(s) for +: 'datetime.datetime' and 'datetime.datetime'"
     ]
    }
   ],
   "source": [
    "dt1 = dt.datetime(2022, 4, 14)\n",
    "dt2 = dt.datetime(2022, 3, 29)\n",
    "print(dt1 + dt2)"
   ]
  },
  {
   "cell_type": "markdown",
   "metadata": {},
   "source": [
    "You see that when we  try to add two date objects using the `+` operator, we get a `TypeError` that tells us the operator is not valid.\n",
    "\n",
    "But how about the <b> `-` </b> operator?"
   ]
  },
  {
   "cell_type": "code",
   "execution_count": 24,
   "metadata": {},
   "outputs": [
    {
     "name": "stdout",
     "output_type": "stream",
     "text": [
      "16 days, 0:00:00\n"
     ]
    }
   ],
   "source": [
    "print(dt1 - dt2)"
   ]
  },
  {
   "cell_type": "markdown",
   "metadata": {},
   "source": [
    "It works! When we use the **`-`** operator with two date objects, the result is the time difference between the two datetime objects. \n",
    "\n",
    "Let's look at the type of the resultant object:"
   ]
  },
  {
   "cell_type": "code",
   "execution_count": 25,
   "metadata": {},
   "outputs": [
    {
     "name": "stdout",
     "output_type": "stream",
     "text": [
      "<class 'datetime.timedelta'>\n"
     ]
    }
   ],
   "source": [
    "diff = dt1 - dt2\n",
    "print(type(diff))"
   ]
  },
  {
   "cell_type": "code",
   "execution_count": 26,
   "metadata": {},
   "outputs": [
    {
     "data": {
      "text/plain": [
       "datetime.timedelta(0)"
      ]
     },
     "execution_count": 26,
     "metadata": {},
     "output_type": "execute_result"
    }
   ],
   "source": [
    "datetime.timedelta(days=0, seconds=0, microseconds=0,\n",
    "                   milliseconds=0, minutes=0, hours=0, weeks=0)"
   ]
  },
  {
   "cell_type": "markdown",
   "metadata": {},
   "source": [
    "You might notice that the ordering of the parameters doesn't follow the order you might expect, and for this reason it can be clearer to use keyword arguments when instantiating objects if we are using anything other than days:"
   ]
  },
  {
   "cell_type": "code",
   "execution_count": 27,
   "metadata": {},
   "outputs": [
    {
     "name": "stdout",
     "output_type": "stream",
     "text": [
      "2 days, 0:00:00\n"
     ]
    }
   ],
   "source": [
    "two_days = dt.timedelta(2)\n",
    "print(two_days)"
   ]
  },
  {
   "cell_type": "code",
   "execution_count": 28,
   "metadata": {},
   "outputs": [
    {
     "name": "stdout",
     "output_type": "stream",
     "text": [
      "21 days, 0:00:00\n"
     ]
    }
   ],
   "source": [
    "three_weeks = dt.timedelta(weeks=3)\n",
    "print(three_weeks)"
   ]
  },
  {
   "cell_type": "code",
   "execution_count": 29,
   "metadata": {},
   "outputs": [
    {
     "name": "stdout",
     "output_type": "stream",
     "text": [
      "1:10:00\n"
     ]
    }
   ],
   "source": [
    "one_hr_ten_mins = dt.timedelta(hours=1, minutes=10)\n",
    "print(one_hr_ten_mins)"
   ]
  },
  {
   "cell_type": "markdown",
   "metadata": {},
   "source": [
    "Timedelta objects can also be added or subtracted from datetime objects."
   ]
  },
  {
   "cell_type": "code",
   "execution_count": 30,
   "metadata": {},
   "outputs": [
    {
     "name": "stdout",
     "output_type": "stream",
     "text": [
      "1963-02-28\n"
     ]
    }
   ],
   "source": [
    "# we try to find the date one week from a date object\n",
    "d1 = dt.date(1963, 2, 21)\n",
    "d1_plus_1wk = d1 + dt.timedelta(weeks=1)\n",
    "print(d1_plus_1wk)"
   ]
  },
  {
   "cell_type": "code",
   "execution_count": null,
   "metadata": {},
   "outputs": [],
   "source": []
  }
 ],
 "metadata": {
  "kernelspec": {
   "display_name": "Python 3",
   "language": "python",
   "name": "python3"
  },
  "language_info": {
   "codemirror_mode": {
    "name": "ipython",
    "version": 3
   },
   "file_extension": ".py",
   "mimetype": "text/x-python",
   "name": "python",
   "nbconvert_exporter": "python",
   "pygments_lexer": "ipython3",
   "version": "3.7.1"
  }
 },
 "nbformat": 4,
 "nbformat_minor": 4
}
