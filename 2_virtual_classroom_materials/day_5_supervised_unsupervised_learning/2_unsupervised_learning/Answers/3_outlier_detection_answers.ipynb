{
 "cells": [
  {
   "cell_type": "markdown",
   "metadata": {},
   "source": [
    "## One-class SVM \n",
    "\n",
    "One-class SVM is abbreviation of one-class support vector machines. It is an unsupervised algorithm that learns a decision function for novelty detection: classifying new data as similar or different to the training set (sklearn documentation). It basically means that this algorithm is trained only on the ‘normal’ data. It learns the boundaries of these normal points and is therefore able to classify any points that lie outside the boundary as, which in another name, outliers.\n",
    "\n",
    "You can take a look at the parameters of the model down below, for more information regarding the model, please check out the [OneClassSVM documentation](\n",
    "https://scikit-learn.org/stable/modules/generated/sklearn.svm.OneClassSVM.html#sklearn.svm.OneClassSVM\n",
    "):"
   ]
  },
  {
   "cell_type": "raw",
   "metadata": {},
   "source": [
    "class sklearn.svm.OneClassSVM(*, kernel='rbf', degree=3, gamma='scale', coef0=0.0, tol=0.001, nu=0.5, shrinking=True, cache_size=200, verbose=False, max_iter=-1"
   ]
  },
  {
   "cell_type": "markdown",
   "metadata": {},
   "source": [
    "#### Explanation of important parameters:\n",
    "\n",
    "- `kernel`: specifies the kernel type to be used in the algorithm.\n",
    "- `nu` :the proportion of outliers you expect to observe \n",
    "- `gamma`: determines the smoothing of the contour lines."
   ]
  },
  {
   "cell_type": "markdown",
   "metadata": {},
   "source": [
    "### One-class SVM Exercises\n",
    "\n",
    "First we will import OneClassSVM from sklearn.svm, make_blobs, numpy, and matplotlib.pyplot"
   ]
  },
  {
   "cell_type": "code",
   "execution_count": 1,
   "metadata": {},
   "outputs": [],
   "source": [
    "from sklearn.svm import OneClassSVM\n",
    "from sklearn.datasets import make_blobs\n",
    "import numpy as np  # You will use np.quantile, np.where and np.random\n",
    "import matplotlib.pyplot as plt"
   ]
  },
  {
   "cell_type": "markdown",
   "metadata": {},
   "source": [
    "We have created a random sample dataset below by using the `make_blobs()` function."
   ]
  },
  {
   "cell_type": "code",
   "execution_count": 2,
   "metadata": {},
   "outputs": [
    {
     "data": {
      "image/png": "[encoded data removed]",
      "text/plain": [
       "<Figure size 432x288 with 1 Axes>"
      ]
     },
     "metadata": {
      "needs_background": "light"
     },
     "output_type": "display_data"
    }
   ],
   "source": [
    "np.random.seed(13)\n",
    "x, _ = make_blobs(n_samples=200, centers=1, cluster_std=.3, center_box=(8, 8))\n",
    "\n",
    "plt.scatter(x[:,0], x[:,1])\n",
    "plt.show()\n"
   ]
  },
  {
   "cell_type": "markdown",
   "metadata": {},
   "source": [
    "**TO DO:** We will use the rbf kernel type for our model, please set the kernel type to rbf, which stands for [`radial basis function`](https://en.wikipedia.org/wiki/Radial_basis_function_kernel)"
   ]
  },
  {
   "cell_type": "code",
   "execution_count": 3,
   "metadata": {},
   "outputs": [
    {
     "name": "stdout",
     "output_type": "stream",
     "text": [
      "OneClassSVM(gamma=0.001, nu=0.03)\n"
     ]
    }
   ],
   "source": [
    "# Task\n",
    "\n",
    "svm = OneClassSVM(kernel='rbf', gamma=0.001, nu=0.03)\n",
    "print(svm)"
   ]
  },
  {
   "cell_type": "markdown",
   "metadata": {},
   "source": [
    "**TO DO:** Please fit the model with the dataset `x` that we created at the beginning and get the prediction data by using the fit() and predict() method."
   ]
  },
  {
   "cell_type": "code",
   "execution_count": 4,
   "metadata": {},
   "outputs": [],
   "source": [
    "# Task\n",
    "\n",
    "svm.fit(x)\n",
    "pred = svm.predict(x)"
   ]
  },
  {
   "cell_type": "markdown",
   "metadata": {},
   "source": [
    "**TO DO:** If everything is done correctly before, please extract the negative outputs (where the prediction of the data is equal to -1) as the outliers."
   ]
  },
  {
   "cell_type": "code",
   "execution_count": 5,
   "metadata": {},
   "outputs": [],
   "source": [
    "# Task\n",
    "\n",
    "anom_index = np.where(pred == -1)\n",
    "values = x[anom_index]"
   ]
  },
  {
   "cell_type": "markdown",
   "metadata": {},
   "source": [
    "Now we will visualize what we have done by using plt."
   ]
  },
  {
   "cell_type": "code",
   "execution_count": 6,
   "metadata": {},
   "outputs": [
    {
     "data": {
      "image/png": "[encoded data removed]",
      "text/plain": [
       "<Figure size 432x288 with 1 Axes>"
      ]
     },
     "metadata": {
      "needs_background": "light"
     },
     "output_type": "display_data"
    }
   ],
   "source": [
    "plt.scatter(x[:,0], x[:,1])\n",
    "plt.scatter(values[:,0], values[:,1], color='r')\n",
    "plt.show()"
   ]
  },
  {
   "cell_type": "markdown",
   "metadata": {},
   "source": [
    "## Local Outlier Factor\n",
    "\n",
    "The Local Outlier Factor (LOF) algorithm is an unsupervised anomaly detection method which computes the local density deviation of a given data point with respect to its neighbors. It considers as outliers the samples that have a substantially lower density than their neighbors. Note that when LOF is used for outlier detection it has no predict, decision_function and score_samples methods. \n",
    "\n",
    "Local Outlier Factor (LOF) is a score that describes how likely a certain data point is an outlier/anomaly.\n",
    "\n",
    "- When LOF is around 1, it is most likely that the data point is normal.\n",
    "- When LOF scores over 1, it is most likely that the data point is an outlier.\n",
    "\n",
    "In general, the LOF of a point tells the density of this point compared to the density of its neighbors. If the density of a point is much smaller than the densities of its neighbors (LOF ≫1), the point is far from dense areas and, hence, an outlier.\n",
    "\n",
    "#### Explanation of important parameters\n",
    "- `n_neighbors`: the number of neighbors considered\n",
    "    - it should be greater than the minimum number of samples a cluster has to contain, so that other samples can be local outliers relative to this cluster\n",
    "    - and smaller than the maximum number of close by samples that can potentially be local outliers. \n",
    "    - In practice, such informations are generally not available, and taking n_neighbors=20 appears to work well in general.\n",
    "- `contamination`: the amount of contamination of the data set, i.e. the proportion of outliers in the data set. When fitting this is used to define the threshold on the scores of the samples.\n",
    "\n",
    "#### Explanation of attributes\n",
    "- `negative_outlier_factor_`: the opposite LOF of the training samples. The higher, the more normal. Inliers tend to have a LOF score close to 1 (negative_outlier_factor_ close to -1), while outliers tend to have a larger LOF score. The local outlier factor (LOF) of a sample captures its supposed ‘degree of abnormality’. It is the average of the ratio of the local reachability density of a sample and those of its k-nearest neighbors.\n",
    "- `n_neighbors_`:the actual number of neighbors used for kneighbors queries.\n",
    "- `offset_`: offset used to obtain binary labels from the raw scores. Observations having a `negative_outlier_factor` smaller than `offset_` are detected as **abnormal**. \n",
    "\n",
    "See more information here: [LocalOutlierFactor Documentation](https://scikit-learn.org/stable/auto_examples/neighbors/plot_lof_outlier_detection.html#:~:text=The%20Local%20Outlier%20Factor%20)"
   ]
  },
  {
   "cell_type": "markdown",
   "metadata": {},
   "source": [
    "### Local outlier factor exercises"
   ]
  },
  {
   "cell_type": "markdown",
   "metadata": {},
   "source": [
    "Firstly, we will important all necessary packages."
   ]
  },
  {
   "cell_type": "code",
   "execution_count": 7,
   "metadata": {},
   "outputs": [],
   "source": [
    "from sklearn.neighbors import LocalOutlierFactor\n",
    "from sklearn.datasets import make_blobs"
   ]
  },
  {
   "cell_type": "markdown",
   "metadata": {},
   "source": [
    "We have created a random sample dataset below again by using the `make_blobs()` function."
   ]
  },
  {
   "cell_type": "code",
   "execution_count": 8,
   "metadata": {},
   "outputs": [],
   "source": [
    "np.random.seed(1)\n",
    "x, _ = make_blobs(n_samples=200, centers=1, cluster_std=.3, center_box=(10,10))"
   ]
  },
  {
   "cell_type": "markdown",
   "metadata": {},
   "source": [
    "**TO DO:** please visualize the dataset in a plot"
   ]
  },
  {
   "cell_type": "code",
   "execution_count": 9,
   "metadata": {},
   "outputs": [
    {
     "data": {
      "image/png": "[encoded data removed]",
      "text/plain": [
       "<Figure size 432x288 with 1 Axes>"
      ]
     },
     "metadata": {
      "needs_background": "light"
     },
     "output_type": "display_data"
    }
   ],
   "source": [
    "plt.scatter(x[:,0], x[:,1])\n",
    "plt.show()"
   ]
  },
  {
   "cell_type": "markdown",
   "metadata": {},
   "source": [
    "**TO DO:** we will then construct a LocalOutlierFactor model with n_neighbors set to 20 and contamination set to 0.03."
   ]
  },
  {
   "cell_type": "code",
   "execution_count": 10,
   "metadata": {},
   "outputs": [],
   "source": [
    "# Task\n",
    "\n",
    "model = LocalOutlierFactor(n_neighbors=20, contamination=.03)"
   ]
  },
  {
   "cell_type": "markdown",
   "metadata": {},
   "source": [
    "**TO DO:** please fit the dataset that we generated in the beginning to the model and make prediction using the `fit_predict()` method."
   ]
  },
  {
   "cell_type": "code",
   "execution_count": 11,
   "metadata": {},
   "outputs": [],
   "source": [
    "# Task\n",
    "\n",
    "y_pred = model.fit_predict(x)"
   ]
  },
  {
   "cell_type": "markdown",
   "metadata": {
    "jupyter": {
     "outputs_hidden": true
    }
   },
   "source": [
    "**TO DO:** please output the negative_outlier_factor_ from the model"
   ]
  },
  {
   "cell_type": "code",
   "execution_count": 12,
   "metadata": {},
   "outputs": [
    {
     "name": "stdout",
     "output_type": "stream",
     "text": [
      "[-1.120606   -1.14437502 -0.99761787 -0.9941928  -1.31099752 -1.53859625\n",
      " -1.00406782 -1.24131522 -1.02656272 -1.03895608 -0.98068138 -1.51716114\n",
      " -1.0986004  -0.96976527 -0.99681183 -2.10995972 -0.990004   -1.12563559\n",
      " -0.98989089 -1.17292571 -1.29835171 -1.06911188 -1.11539664 -1.24947982\n",
      " -1.06220226 -1.05388469 -0.95570855 -1.04979114 -0.97850653 -1.31895222\n",
      " -0.98508492 -1.02020752 -1.34179377 -0.98711207 -1.05601573 -1.11017117\n",
      " -0.98090169 -1.08393311 -1.10587828 -0.98820498 -1.05107291 -1.16466334\n",
      " -1.09608812 -0.95578131 -1.03617146 -1.7089345  -1.071127   -2.01755187\n",
      " -0.98726336 -0.98854588 -1.00793811 -0.98753404 -1.10186464 -1.19970701\n",
      " -1.16704079 -1.3786222  -1.4378395  -1.33413937 -0.95541535 -1.13472903\n",
      " -1.08859912 -1.01056098 -1.27781974 -0.97305452 -1.06819691 -1.01166087\n",
      " -0.98291307 -0.98960872 -1.36164516 -1.21503289 -0.99626468 -1.69406001\n",
      " -0.98616592 -1.17946784 -0.98444323 -1.00523465 -0.97590888 -1.81599142\n",
      " -1.92122078 -1.07908621 -0.9835043  -1.09021268 -1.36405053 -1.32775143\n",
      " -0.97410438 -0.98856542 -0.98452656 -1.14126798 -1.09682221 -1.81490565\n",
      " -1.05829436 -1.08933586 -1.00371519 -1.05399121 -0.99785032 -0.97314054\n",
      " -0.96966751 -1.04340421 -1.67022429 -0.98557137 -1.0142053  -0.98503561\n",
      " -1.05610024 -1.02706902 -1.59167274 -1.07258637 -0.97587313 -1.16260448\n",
      " -0.97925509 -0.9928078  -0.976552   -0.97976595 -1.4188735  -1.10065528\n",
      " -0.96701153 -1.01091814 -2.96162188 -1.02055469 -1.06197101 -1.03751386\n",
      " -0.98651047 -0.9915191  -0.98200182 -0.97680644 -1.01282603 -1.02258408\n",
      " -0.9894101  -1.40102664 -1.00692922 -0.9960583  -1.01315536 -1.338018\n",
      " -1.02197771 -1.15317985 -1.11189025 -0.99626798 -1.0669256  -2.43195586\n",
      " -1.11594809 -2.09983993 -1.19519935 -1.00524398 -0.98489356 -1.02183428\n",
      " -1.2212047  -1.66379352 -1.22681131 -1.00466371 -1.01636895 -0.97140375\n",
      " -1.0164002  -1.08074881 -1.09370271 -0.98371727 -1.08675801 -1.20611186\n",
      " -1.0492907  -1.63069299 -0.99193315 -1.06686851 -1.02086825 -1.07158036\n",
      " -1.1481009  -1.22636027 -1.08953927 -0.9988185  -0.99127018 -1.41414705\n",
      " -1.0885787  -0.99457827 -1.19409689 -1.01341188 -1.51638404 -1.42894374\n",
      " -1.31069919 -0.98789091 -0.9804845  -1.02812359 -1.69282045 -1.05083772\n",
      " -1.01879775 -1.0123791  -0.97420105 -1.00323808 -0.97628913 -1.03677457\n",
      " -1.26550283 -1.1326343  -0.9888662  -1.03349318 -1.13870386 -1.00875782\n",
      " -0.99713005 -1.51802475 -1.16964179 -1.04277679 -0.96892808 -1.04372112\n",
      " -0.99472753 -1.03784916]\n"
     ]
    }
   ],
   "source": [
    "# Task\n",
    "\n",
    "lof = model.negative_outlier_factor_\n",
    "\n",
    "print(lof)"
   ]
  },
  {
   "cell_type": "markdown",
   "metadata": {},
   "source": [
    "**TO DO:** find out the number of neighbors used for kneighbors queries in the model for practice"
   ]
  },
  {
   "cell_type": "markdown",
   "metadata": {},
   "source": [
    "**TO DO**: please assign the attribute `offset_` from the model to a variable called `threshold`"
   ]
  },
  {
   "cell_type": "code",
   "execution_count": 13,
   "metadata": {},
   "outputs": [
    {
     "name": "stdout",
     "output_type": "stream",
     "text": [
      "-1.819148296090704\n"
     ]
    }
   ],
   "source": [
    "threshold = np.quantile(lof, .03)\n",
    "print(threshold)"
   ]
  },
  {
   "cell_type": "markdown",
   "metadata": {},
   "source": [
    "There are two ways that we can find out the outliers.\n",
    "1. using the fit_predict() method and extract negative outputs as the outliers\n",
    "2. obtain the threshold value and extract the anomalies by comparing the threshold value and identify the values of elements"
   ]
  },
  {
   "cell_type": "markdown",
   "metadata": {},
   "source": [
    "#### Mehod 1\n",
    "**TO DO:** please extract the negative outputs as the outliers"
   ]
  },
  {
   "cell_type": "code",
   "execution_count": 14,
   "metadata": {},
   "outputs": [
    {
     "data": {
      "text/plain": [
       "array([[ 9.1620745 , 10.58125864],\n",
       "       [10.90925713, 10.24737539],\n",
       "       [ 9.90696497,  9.26954867],\n",
       "       [ 9.2480678 ,  9.36575082],\n",
       "       [ 9.38883963,  9.41722325],\n",
       "       [10.15452208,  9.16523966]])"
      ]
     },
     "execution_count": 14,
     "metadata": {},
     "output_type": "execute_result"
    }
   ],
   "source": [
    "# Task\n",
    "\n",
    "lofs_index = np.where(y_pred==-1)\n",
    "values_1 = x[lofs_index]\n",
    "\n",
    "values_1"
   ]
  },
  {
   "cell_type": "code",
   "execution_count": 15,
   "metadata": {},
   "outputs": [
    {
     "data": {
      "image/png": "[encoded data removed]",
      "text/plain": [
       "<Figure size 432x288 with 1 Axes>"
      ]
     },
     "metadata": {
      "needs_background": "light"
     },
     "output_type": "display_data"
    }
   ],
   "source": [
    "plt.scatter(x[:,0], x[:,1])\n",
    "plt.scatter(values_1[:,0],values_1[:,1], color='r')\n",
    "plt.title (\"Method 1\")\n",
    "plt.show()"
   ]
  },
  {
   "cell_type": "markdown",
   "metadata": {},
   "source": [
    "#### Method 2\n",
    "**TO DO:** extract the anomalies by comparing the threshold value, when the threshold value bigger or equal to the local outlier factor score"
   ]
  },
  {
   "cell_type": "code",
   "execution_count": 16,
   "metadata": {},
   "outputs": [],
   "source": [
    "# Task\n",
    "\n",
    "index = np.where(lof<=threshold)\n",
    "values_2 = x[index]"
   ]
  },
  {
   "cell_type": "markdown",
   "metadata": {},
   "source": [
    "If everything is done correctly before, we can visualize the outliers in the plot below."
   ]
  },
  {
   "cell_type": "code",
   "execution_count": 17,
   "metadata": {},
   "outputs": [
    {
     "data": {
      "image/png": "[encoded data removed]",
      "text/plain": [
       "<Figure size 432x288 with 1 Axes>"
      ]
     },
     "metadata": {
      "needs_background": "light"
     },
     "output_type": "display_data"
    }
   ],
   "source": [
    "plt.scatter(x[:,0], x[:,1])\n",
    "plt.scatter(values_2[:,0],values_2[:,1], color='r')\n",
    "plt.title (\"Method 2\")\n",
    "plt.show()"
   ]
  },
  {
   "cell_type": "markdown",
   "metadata": {},
   "source": [
    "Material adapted for RBI internal purposes with full permissions from original authors. [Source](https://github.com/zatkopatrik/authentic-data-science)"
   ]
  }
 ],
 "metadata": {
  "kernelspec": {
   "display_name": "Python 3 (ipykernel)",
   "language": "python",
   "name": "python3"
  },
  "language_info": {
   "codemirror_mode": {
    "name": "ipython",
    "version": 3
   },
   "file_extension": ".py",
   "mimetype": "text/x-python",
   "name": "python",
   "nbconvert_exporter": "python",
   "pygments_lexer": "ipython3",
   "version": "3.7.12"
  }
 },
 "nbformat": 4,
 "nbformat_minor": 4
}
