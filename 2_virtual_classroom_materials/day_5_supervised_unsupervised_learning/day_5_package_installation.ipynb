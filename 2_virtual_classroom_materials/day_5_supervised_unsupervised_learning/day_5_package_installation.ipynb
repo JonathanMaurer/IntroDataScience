{
 "cells": [
  {
   "cell_type": "markdown",
   "id": "bba0bc6a",
   "metadata": {},
   "source": [
    "**Go to upper left menu -> Run - Run all cells**\n",
    "\n",
    "\n",
    "\n",
    "Running this notebook ensures that you have the desired versions of the packages.  \n",
    "Tensorflow >= 1.0.2  \n",
    "keras >= 2.8.0"
   ]
  },
  {
   "cell_type": "code",
   "execution_count": 5,
   "id": "6a5797f0",
   "metadata": {},
   "outputs": [
    {
     "name": "stdout",
     "output_type": "stream",
     "text": [
      "Looking in indexes: https://nexus.rbinternational.corp/nexus/repository/aaws-pypi-host/simple, https://nexus.rbinternational.corp/nexus/repository/pypi-proxy/simple\n",
      "Collecting tensorflow\n",
      "  Downloading https://nexus.rbinternational.corp/nexus/repository/pypi-proxy/packages/tensorflow/2.8.0/tensorflow-2.8.0-cp37-cp37m-manylinux2010_x86_64.whl (497.5 MB)\n",
      "     |████████████████████████████████| 497.5 MB 18 kB/s               \n",
      "\u001b[?25hCollecting google-pasta>=0.1.1\n",
      "  Downloading https://nexus.rbinternational.corp/nexus/repository/pypi-proxy/packages/google-pasta/0.2.0/google_pasta-0.2.0-py3-none-any.whl (57 kB)\n",
      "     |████████████████████████████████| 57 kB 2.9 MB/s             \n",
      "\u001b[?25hCollecting libclang>=9.0.1\n",
      "  Downloading https://nexus.rbinternational.corp/nexus/repository/pypi-proxy/packages/libclang/13.0.0/libclang-13.0.0-py2.py3-none-manylinux1_x86_64.whl (14.5 MB)\n",
      "     |████████████████████████████████| 14.5 MB 62.4 MB/s            \n",
      "\u001b[?25hCollecting flatbuffers>=1.12\n",
      "  Downloading https://nexus.rbinternational.corp/nexus/repository/pypi-proxy/packages/flatbuffers/2.0/flatbuffers-2.0-py2.py3-none-any.whl (26 kB)\n",
      "Collecting tf-estimator-nightly==2.8.0.dev2021122109\n",
      "  Downloading https://nexus.rbinternational.corp/nexus/repository/pypi-proxy/packages/tf-estimator-nightly/2.8.0.dev2021122109/tf_estimator_nightly-2.8.0.dev2021122109-py2.py3-none-any.whl (462 kB)\n",
      "     |████████████████████████████████| 462 kB 55.4 MB/s            �███████████████               | 245 kB 55.4 MB/s eta 0:00:01\n",
      "\u001b[?25hCollecting tensorflow-io-gcs-filesystem>=0.23.1\n",
      "  Downloading https://nexus.rbinternational.corp/nexus/repository/pypi-proxy/packages/tensorflow-io-gcs-filesystem/0.24.0/tensorflow_io_gcs_filesystem-0.24.0-cp37-cp37m-manylinux_2_12_x86_64.manylinux2010_x86_64.whl (2.1 MB)\n",
      "     |████████████████████████████████| 2.1 MB 39.6 MB/s            \n",
      "\u001b[?25hCollecting absl-py>=0.4.0\n",
      "  Downloading https://nexus.rbinternational.corp/nexus/repository/pypi-proxy/packages/absl-py/1.0.0/absl_py-1.0.0-py3-none-any.whl (126 kB)\n",
      "     |████████████████████████████████| 126 kB 62.2 MB/s            \n",
      "\u001b[?25hRequirement already satisfied: typing-extensions>=3.6.6 in /opt/conda/lib/python3.7/site-packages (from tensorflow) (4.0.1)\n",
      "Requirement already satisfied: six>=1.12.0 in /opt/conda/lib/python3.7/site-packages (from tensorflow) (1.16.0)\n",
      "Collecting termcolor>=1.1.0\n",
      "  Downloading https://nexus.rbinternational.corp/nexus/repository/pypi-proxy/packages/termcolor/1.1.0/termcolor-1.1.0.tar.gz (3.9 kB)\n",
      "  Preparing metadata (setup.py) ... \u001b[?25ldone\n",
      "\u001b[?25hCollecting wrapt>=1.11.0\n",
      "  Downloading https://nexus.rbinternational.corp/nexus/repository/pypi-proxy/packages/wrapt/1.14.0/wrapt-1.14.0-cp37-cp37m-manylinux_2_5_x86_64.manylinux1_x86_64.manylinux_2_17_x86_64.manylinux2014_x86_64.whl (75 kB)\n",
      "     |████████████████████████████████| 75 kB 4.0 MB/s             \n",
      "\u001b[?25hCollecting tensorboard<2.9,>=2.8\n",
      "  Downloading https://nexus.rbinternational.corp/nexus/repository/pypi-proxy/packages/tensorboard/2.8.0/tensorboard-2.8.0-py3-none-any.whl (5.8 MB)\n",
      "     |████████████████████████████████| 5.8 MB 58.8 MB/s            \n",
      "\u001b[?25hRequirement already satisfied: protobuf>=3.9.2 in /opt/conda/lib/python3.7/site-packages (from tensorflow) (3.9.2)\n",
      "Requirement already satisfied: h5py>=2.9.0 in /opt/conda/lib/python3.7/site-packages (from tensorflow) (2.9.0)\n",
      "Collecting gast>=0.2.1\n",
      "  Downloading https://nexus.rbinternational.corp/nexus/repository/pypi-proxy/packages/gast/0.5.3/gast-0.5.3-py3-none-any.whl (19 kB)\n",
      "Collecting astunparse>=1.6.0\n",
      "  Downloading https://nexus.rbinternational.corp/nexus/repository/pypi-proxy/packages/astunparse/1.6.3/astunparse-1.6.3-py2.py3-none-any.whl (12 kB)\n",
      "Collecting opt-einsum>=2.3.2\n",
      "  Downloading https://nexus.rbinternational.corp/nexus/repository/pypi-proxy/packages/opt-einsum/3.3.0/opt_einsum-3.3.0-py3-none-any.whl (65 kB)\n",
      "     |████████████████████████████████| 65 kB 3.8 MB/s             \n",
      "\u001b[?25hCollecting keras-preprocessing>=1.1.1\n",
      "  Downloading https://nexus.rbinternational.corp/nexus/repository/pypi-proxy/packages/keras-preprocessing/1.1.2/Keras_Preprocessing-1.1.2-py2.py3-none-any.whl (42 kB)\n",
      "     |████████████████████████████████| 42 kB 2.5 MB/s             \n",
      "\u001b[?25hCollecting grpcio<2.0,>=1.24.3\n",
      "  Downloading https://nexus.rbinternational.corp/nexus/repository/pypi-proxy/packages/grpcio/1.45.0/grpcio-1.45.0-cp37-cp37m-manylinux_2_17_x86_64.manylinux2014_x86_64.whl (4.4 MB)\n",
      "     |████████████████████████████████| 4.4 MB 26.1 MB/s            \n",
      "\u001b[?25hRequirement already satisfied: numpy>=1.20 in /opt/conda/lib/python3.7/site-packages (from tensorflow) (1.21.5)\n",
      "Requirement already satisfied: keras<2.9,>=2.8.0rc0 in /opt/conda/lib/python3.7/site-packages (from tensorflow) (2.8.0)\n",
      "Requirement already satisfied: setuptools in /opt/conda/lib/python3.7/site-packages (from tensorflow) (59.4.0)\n",
      "Requirement already satisfied: wheel<1.0,>=0.23.0 in /opt/conda/lib/python3.7/site-packages (from astunparse>=1.6.0->tensorflow) (0.37.0)\n",
      "Requirement already satisfied: werkzeug>=0.11.15 in /opt/conda/lib/python3.7/site-packages (from tensorboard<2.9,>=2.8->tensorflow) (2.0.2)\n",
      "Collecting tensorboard-data-server<0.7.0,>=0.6.0\n",
      "  Downloading https://nexus.rbinternational.corp/nexus/repository/pypi-proxy/packages/tensorboard-data-server/0.6.1/tensorboard_data_server-0.6.1-py3-none-manylinux2010_x86_64.whl (4.9 MB)\n",
      "     |████████████████████████████████| 4.9 MB 56.6 MB/s            \n",
      "\u001b[?25hCollecting tensorboard-plugin-wit>=1.6.0\n",
      "  Downloading https://nexus.rbinternational.corp/nexus/repository/pypi-proxy/packages/tensorboard-plugin-wit/1.8.1/tensorboard_plugin_wit-1.8.1-py3-none-any.whl (781 kB)\n",
      "     |████████████████████████████████| 781 kB 56.1 MB/s            \n",
      "\u001b[?25hCollecting markdown>=2.6.8\n",
      "  Downloading https://nexus.rbinternational.corp/nexus/repository/pypi-proxy/packages/markdown/3.3.6/Markdown-3.3.6-py3-none-any.whl (97 kB)\n",
      "     |████████████████████████████████| 97 kB 9.6 MB/s             \n",
      "\u001b[?25hCollecting google-auth<3,>=1.6.3\n",
      "  Downloading https://nexus.rbinternational.corp/nexus/repository/pypi-proxy/packages/google-auth/2.6.2/google_auth-2.6.2-py2.py3-none-any.whl (156 kB)\n",
      "     |████████████████████████████████| 156 kB 61.2 MB/s            \n",
      "\u001b[?25hCollecting google-auth-oauthlib<0.5,>=0.4.1\n",
      "  Downloading https://nexus.rbinternational.corp/nexus/repository/pypi-proxy/packages/google-auth-oauthlib/0.4.6/google_auth_oauthlib-0.4.6-py2.py3-none-any.whl (18 kB)\n",
      "Requirement already satisfied: requests<3,>=2.21.0 in /opt/conda/lib/python3.7/site-packages (from tensorboard<2.9,>=2.8->tensorflow) (2.26.0)\n",
      "Collecting pyasn1-modules>=0.2.1\n",
      "  Downloading https://nexus.rbinternational.corp/nexus/repository/pypi-proxy/packages/pyasn1-modules/0.2.8/pyasn1_modules-0.2.8-py2.py3-none-any.whl (155 kB)\n",
      "     |████████████████████████████████| 155 kB 39.6 MB/s            \n",
      "\u001b[?25hCollecting rsa<5,>=3.1.4\n",
      "  Downloading https://nexus.rbinternational.corp/nexus/repository/pypi-proxy/packages/rsa/4.8/rsa-4.8-py3-none-any.whl (39 kB)\n",
      "Collecting cachetools<6.0,>=2.0.0\n",
      "  Downloading https://nexus.rbinternational.corp/nexus/repository/pypi-proxy/packages/cachetools/5.0.0/cachetools-5.0.0-py3-none-any.whl (9.1 kB)\n",
      "Collecting requests-oauthlib>=0.7.0\n",
      "  Downloading https://nexus.rbinternational.corp/nexus/repository/pypi-proxy/packages/requests-oauthlib/1.3.1/requests_oauthlib-1.3.1-py2.py3-none-any.whl (23 kB)\n",
      "Requirement already satisfied: importlib-metadata>=4.4 in /opt/conda/lib/python3.7/site-packages (from markdown>=2.6.8->tensorboard<2.9,>=2.8->tensorflow) (4.8.2)\n",
      "Requirement already satisfied: certifi>=2017.4.17 in /opt/conda/lib/python3.7/site-packages (from requests<3,>=2.21.0->tensorboard<2.9,>=2.8->tensorflow) (2021.10.8)\n",
      "Requirement already satisfied: urllib3<1.27,>=1.21.1 in /opt/conda/lib/python3.7/site-packages (from requests<3,>=2.21.0->tensorboard<2.9,>=2.8->tensorflow) (1.26.7)\n",
      "Requirement already satisfied: idna<4,>=2.5 in /opt/conda/lib/python3.7/site-packages (from requests<3,>=2.21.0->tensorboard<2.9,>=2.8->tensorflow) (3.3)\n",
      "Requirement already satisfied: charset-normalizer~=2.0.0 in /opt/conda/lib/python3.7/site-packages (from requests<3,>=2.21.0->tensorboard<2.9,>=2.8->tensorflow) (2.0.8)\n",
      "Requirement already satisfied: zipp>=0.5 in /opt/conda/lib/python3.7/site-packages (from importlib-metadata>=4.4->markdown>=2.6.8->tensorboard<2.9,>=2.8->tensorflow) (3.6.0)\n",
      "Collecting pyasn1<0.5.0,>=0.4.6\n",
      "  Downloading https://nexus.rbinternational.corp/nexus/repository/pypi-proxy/packages/pyasn1/0.4.8/pyasn1-0.4.8-py2.py3-none-any.whl (77 kB)\n",
      "     |████████████████████████████████| 77 kB 11.9 MB/s            \n",
      "\u001b[?25hRequirement already satisfied: oauthlib>=3.0.0 in /opt/conda/lib/python3.7/site-packages (from requests-oauthlib>=0.7.0->google-auth-oauthlib<0.5,>=0.4.1->tensorboard<2.9,>=2.8->tensorflow) (3.1.1)\n",
      "Building wheels for collected packages: termcolor\n",
      "  Building wheel for termcolor (setup.py) ... \u001b[?25ldone\n",
      "\u001b[?25h  Created wheel for termcolor: filename=termcolor-1.1.0-py3-none-any.whl size=4847 sha256=5c26fceb5ac55e49a4bc74e19a1d85e7b56618397562b21f42f8f941efeb45a0\n",
      "  Stored in directory: /home/jovyan/.cache/pip/wheels/99/98/fc/5080a81bb82e7f84f436888158bec415610d7b5bc98c8c5e0f\n",
      "Successfully built termcolor\n",
      "Installing collected packages: pyasn1, rsa, pyasn1-modules, cachetools, requests-oauthlib, google-auth, tensorboard-plugin-wit, tensorboard-data-server, markdown, grpcio, google-auth-oauthlib, absl-py, wrapt, tf-estimator-nightly, termcolor, tensorflow-io-gcs-filesystem, tensorboard, opt-einsum, libclang, keras-preprocessing, google-pasta, gast, flatbuffers, astunparse, tensorflow\n",
      "Successfully installed absl-py-1.0.0 astunparse-1.6.3 cachetools-5.0.0 flatbuffers-2.0 gast-0.5.3 google-auth-2.6.2 google-auth-oauthlib-0.4.6 google-pasta-0.2.0 grpcio-1.45.0 keras-preprocessing-1.1.2 libclang-13.0.0 markdown-3.3.6 opt-einsum-3.3.0 pyasn1-0.4.8 pyasn1-modules-0.2.8 requests-oauthlib-1.3.1 rsa-4.8 tensorboard-2.8.0 tensorboard-data-server-0.6.1 tensorboard-plugin-wit-1.8.1 tensorflow-2.8.0 tensorflow-io-gcs-filesystem-0.24.0 termcolor-1.1.0 tf-estimator-nightly-2.8.0.dev2021122109 wrapt-1.14.0\n"
     ]
    }
   ],
   "source": [
    "!pip install -U tensorflow"
   ]
  },
  {
   "cell_type": "code",
   "execution_count": 3,
   "id": "efa9ebe2",
   "metadata": {},
   "outputs": [
    {
     "name": "stdout",
     "output_type": "stream",
     "text": [
      "Looking in indexes: https://nexus.rbinternational.corp/nexus/repository/aaws-pypi-host/simple, https://nexus.rbinternational.corp/nexus/repository/pypi-proxy/simple\n",
      "Collecting keras\n",
      "  Downloading https://nexus.rbinternational.corp/nexus/repository/pypi-proxy/packages/keras/2.8.0/keras-2.8.0-py2.py3-none-any.whl (1.4 MB)\n",
      "     |████████████████████████████████| 1.4 MB 7.5 MB/s            \n",
      "\u001b[?25hInstalling collected packages: keras\n",
      "Successfully installed keras-2.8.0\n"
     ]
    }
   ],
   "source": [
    "!pip install -U keras"
   ]
  },
  {
   "cell_type": "code",
   "execution_count": null,
   "id": "98b7eafa",
   "metadata": {},
   "outputs": [],
   "source": []
  }
 ],
 "metadata": {
  "kernelspec": {
   "display_name": "Python 3 (ipykernel)",
   "language": "python",
   "name": "python3"
  },
  "language_info": {
   "codemirror_mode": {
    "name": "ipython",
    "version": 3
   },
   "file_extension": ".py",
   "mimetype": "text/x-python",
   "name": "python",
   "nbconvert_exporter": "python",
   "pygments_lexer": "ipython3",
   "version": "3.7.12"
  }
 },
 "nbformat": 4,
 "nbformat_minor": 5
}
