{
 "cells": [
  {
   "cell_type": "markdown",
   "metadata": {},
   "source": [
    "# 0. Package Installation - Restart Required\n",
    "\n",
    "Please run the following line to install required packages for today's training. Make sure to `restart your kernel` after the installation is finished."
   ]
  },
  {
   "cell_type": "code",
   "execution_count": null,
   "metadata": {},
   "outputs": [],
   "source": [
    "%run day_2_package_installation.ipynb"
   ]
  },
  {
   "cell_type": "markdown",
   "metadata": {},
   "source": [
    "# Visualizations with Pandas"
   ]
  },
  {
   "cell_type": "markdown",
   "metadata": {},
   "source": [
    "# 1. Introduction\n",
    "\n",
    "Pandas library will probably be your first option to create visual insights to understand the data more.\n",
    "The main advantage is that you can visualize the data using simple and straightforward methods. Behind the scenes of plotting with Pandas is another library - Matplotlib. But don't worry now about Matplotlib as we will cover it in the later lesson. So when we call some Pandas' plotting function, Matplotlib acts as an engine. Therefore we can use a higher level of code to gain similar good-looking plots as in Matplotlib."
   ]
  },
  {
   "cell_type": "markdown",
   "metadata": {},
   "source": [
    "# 2. Dataset\n",
    "\n",
    "We will be working with an occupancy detection dataset, that can be found [here](https://archive.ics.uci.edu/ml/datasets/Occupancy+Detection+#). \n",
    "\n",
    "This dataset is intended to solve binary classification problems according to attributes which could indicate whether a person is present in the room or not.\n",
    "\n",
    "Let´s import Pandas library and load the data."
   ]
  },
  {
   "cell_type": "code",
   "execution_count": null,
   "metadata": {},
   "outputs": [],
   "source": [
    "# Import Pandas and Numpy libraries\n",
    "import pandas as pd\n",
    "import numpy as np\n",
    "# For now, we use Matplotlib only to set the size of plots\n",
    "import matplotlib.pyplot as plt\n",
    "# rcParams allow us to set the size global to the whole notebook \n",
    "plt.rcParams['figure.figsize'] = [10,6]\n",
    "# In some plots, we define the size within the plotting function"
   ]
  },
  {
   "cell_type": "code",
   "execution_count": null,
   "metadata": {},
   "outputs": [],
   "source": [
    "# Load the data\n",
    "data = pd.read_csv('Data/room_occupancy.txt')"
   ]
  },
  {
   "cell_type": "code",
   "execution_count": null,
   "metadata": {},
   "outputs": [],
   "source": [
    "# Take a look at the first 10 rows\n",
    "data.head(10)"
   ]
  },
  {
   "cell_type": "code",
   "execution_count": null,
   "metadata": {},
   "outputs": [],
   "source": [
    "# Print number of rows and columns\n",
    "data.shape"
   ]
  },
  {
   "cell_type": "markdown",
   "metadata": {},
   "source": [
    "## 2.1 Attributes explanation\n",
    "\n",
    "Firstly, let's examine what variables we are dealing with.\n",
    "\n",
    "- date: the specific day and time when the values were recorded \n",
    "- Temperature: measured in Celsius\n",
    "- Humidity: relative humidity - a present state of absolute humidity relative to a\n",
    "    maximum humidity given the same temperature expressed as a          percentage\n",
    "- Light: in Lux unit\n",
    "- CO2: in ppm unit (parts per million)\n",
    "- HumidityRatio: derived quantity from temperature and relative humidity, expressed in kilograms of water vapor per kilogram of dry air  \n",
    "- Occupancy: \n",
    "the presence of a person in the room: the occupancy of the room was obtained from pictures that were taken every minute for a period of 8 days (1 if a person is present, 0 otherwise)\n"
   ]
  },
  {
   "cell_type": "markdown",
   "metadata": {},
   "source": [
    "### 2.1.2 Exploring the data\n",
    "Let´s look at the variables data type using `.dtypes` attribute."
   ]
  },
  {
   "cell_type": "code",
   "execution_count": null,
   "metadata": {},
   "outputs": [],
   "source": [
    "# Check variables data type\n",
    "data.dtypes"
   ]
  },
  {
   "cell_type": "markdown",
   "metadata": {},
   "source": [
    "There are 6 numerical variables in the dataset. Almost all of the variables have been correctly interpreted according to theiy datatypes, except for 'date' variable, which Python recognized as an object. Convert this object datatype to datetime datatype using `Pandas`. "
   ]
  },
  {
   "cell_type": "code",
   "execution_count": null,
   "metadata": {},
   "outputs": [],
   "source": [
    "# Convert date variable using Pandas to_datetime method\n",
    "data['date'] = pd.to_datetime(data['date'])"
   ]
  },
  {
   "cell_type": "markdown",
   "metadata": {},
   "source": [
    "Let´s check whether there are some missing values that we need to be aware of. "
   ]
  },
  {
   "cell_type": "code",
   "execution_count": null,
   "metadata": {},
   "outputs": [],
   "source": [
    "# Explore descriptive statistics\n",
    "data.describe()"
   ]
  },
  {
   "cell_type": "code",
   "execution_count": null,
   "metadata": {},
   "outputs": [],
   "source": [
    "# Check missing values\n",
    "data.isnull().sum()"
   ]
  },
  {
   "cell_type": "markdown",
   "metadata": {},
   "source": [
    "# 3. Plot method\n",
    "\n",
    "`.plot()` function\n",
    "\n",
    "This plotting function is simply a wrapper around `Matplotlibs` plot function that create **a lineplot** by default. A lineplot plots each data point of DataFrame and then draw a straight continuous line connecting these values.\n",
    "\n",
    "---\n",
    "\n",
    "If you call `.plot()` right onto the DataFrame, all of the variables will be plotted. This approach is sometimes not quite good as you can see below. There are several variables with similar low values, thus they are overlapping. "
   ]
  },
  {
   "cell_type": "code",
   "execution_count": null,
   "metadata": {},
   "outputs": [],
   "source": [
    "# Create a lineplot of DataFrame\n",
    "data.plot()"
   ]
  },
  {
   "cell_type": "markdown",
   "metadata": {},
   "source": [
    "Let´s create a violet line plot of variable 'Temperature'. You can select desired variable by indexing the DataFrame with square brackets. "
   ]
  },
  {
   "cell_type": "code",
   "execution_count": null,
   "metadata": {},
   "outputs": [],
   "source": [
    "# Create a line plot of Temperature variable \n",
    "data['Temperature'].plot(color = 'violet')"
   ]
  },
  {
   "cell_type": "markdown",
   "metadata": {},
   "source": [
    "Now we can see plotted only Temperature variable with respective values.  \n",
    "\n",
    "You can see that `plot()` function returns ```<AxesSubplot:>``` object. But what does it mean? \n",
    "\n",
    "For now, remember that each graph is actually represented as a Figure object that serves as the base. Onto this bse, there is Axes object in which are x-axis and y-axis created. In the latter section, we´ll discuss more details about Figures and Axes. \n",
    "To avoid displaying this label, you can put a semicolon at the end of the line.\n",
    "\n",
    "---\n",
    "It is also posible to plot multiple columns by passing a **list** of respective variables, separated by a comma within square brackets and then call `.plot()`. `Pandas` set the colors of lines automatically and so you will be able to distinguish the variables. You can specify colors of lines to `color` parameter if you want to. Chosen colors need to passed in the dictionary.  See the following example:\n",
    "\n",
    "``` data[['variable_1', 'variable_2']].plot(color = {'variable_1':'yellow', 'variable_2': 'black'})```\n",
    "\n",
    "Also the legend is placed by default. \n",
    "\n",
    "**Try it yourself in the following task.**"
   ]
  },
  {
   "cell_type": "code",
   "execution_count": null,
   "metadata": {},
   "outputs": [],
   "source": [
    "# TASK 1 >>> Create a lineplot of variables 'Temperature' and 'Humidity'\n",
    "#        >>> Set the color of Temperature to green and Humidity to be blue\n",
    "#        >>> In the created plot, observe how humidity and temperature have been decreasing and increasing"
   ]
  },
  {
   "cell_type": "markdown",
   "metadata": {},
   "source": [
    "## 3.1 Customizing parameters of a line plot"
   ]
  },
  {
   "cell_type": "markdown",
   "metadata": {},
   "source": [
    "It is possible to plot one column against another one, as we see in the example below. We specify date variable on the x-axis and CO2 variable on the y-axis.\n",
    "Within `.plot()` method, you can set several parameters such as title, axis labels, size of plot, etc. For more information about parameter settings, see [the documentation](https://pandas.pydata.org/pandas-docs/stable/reference/api/pandas.DataFrame.plot.html)"
   ]
  },
  {
   "cell_type": "code",
   "execution_count": null,
   "metadata": {},
   "outputs": [],
   "source": [
    "# A lineplot of amount of CO2 per date\n",
    "\n",
    "data.plot(x = 'date', y = 'CO2',             # Specifying variabes on the axis\n",
    "          figsize = (15,8),                  # Setting a Figure object size as a tuple\n",
    "          fontsize = 9,                      # Setting ticks font size \n",
    "          color = 'skyblue',                 # Setting a color\n",
    "          title = 'Amount of CO2 over time', # Setting a title of a plot \n",
    "          xlabel = 'Date',                   # Customizing x-axis label (variable name by default)\n",
    "          ylabel = 'CO2 (in ppm)');          # Customizing y-axis label (no label by default)"
   ]
  },
  {
   "cell_type": "markdown",
   "metadata": {},
   "source": [
    "The line plot is showing a trend of CO2 amount over a period of time from 12.02.2015 (Thursday) till 18.02.2015 (Wednesday). The graph displays how the amount of CO2 has decreased during the weekend (14.02.2015 - 15.02.2015). "
   ]
  },
  {
   "cell_type": "markdown",
   "metadata": {},
   "source": [
    "## 3.2 Plotting approaches and plot kinds\n",
    "\n",
    "Before we proceed to the other plot kinds, there is an important thing to mention. \n",
    "\n",
    "**There are different ways how you can plot your data**. To not to get confused later on, let´s clarify them a little bit. \n",
    "\n",
    "In the preceding examples, we use the default `plot()` function that creates **a line plot by default**. \n",
    "\n",
    "**First approach:**\n",
    "\n",
    "- there is a possibility to select other plot style you wich to create using `kind` parameter. \n",
    "\n",
    "Overall, there are 10 plot styles you can specify as an argument provided as a string:\n",
    "\n",
    "- `hist`   - histogram  \n",
    "- `box`    - boxplot  \n",
    "- `bar`    - vertical barplot  \n",
    "- `barh`   - horizontal barplot  \n",
    "- `scatter`- scatterplot  \n",
    "- `pie`    - pie plot  \n",
    "- `kde`    - density plot  \n",
    "- `density`- density plot  \n",
    "- `area`   - area plot  \n",
    "- `hexbin` - hexagonal bin plot  \n",
    "\n",
    "**Second approach:**\n",
    "\n",
    "- all of these plots can be created using corresponding plotting functions:\n",
    "\n",
    "- `DataFrame.plot.line`\n",
    "- `DataFrame.plot.hist`\n",
    "- `DataFrame.plot.box`\n",
    "- `DataFrame.plot.bar`\n",
    "- `DataFrame.plot.barh`\n",
    "- `DataFrame.plot.scatter`\n",
    "- `DataFrame.plot.pie`\n",
    "- `DataFrame.plot.kde`\n",
    "- `DataFrame.plot.density`\n",
    "- `DataFrame.plot.area`\n",
    "- `DataFrame.plot.hexbin`\n",
    "\n",
    "For a histogram and a boxplot there are aditionally two plotting functions: `DataFrame.hist()` and `DataFrame.boxplot()`.\n",
    "\n",
    "It is up to you which of the two approaches you will decide to stick with."
   ]
  },
  {
   "cell_type": "markdown",
   "metadata": {},
   "source": [
    "### 3.2.1 Histogram\n"
   ]
  },
  {
   "cell_type": "markdown",
   "metadata": {},
   "source": [
    "Histogram is a handy plot to get a picture of the spread of data points. It creates so-called bins that you can think of as particular ranges of values. Each data point falls into the respective bin according to its value and the number of data points are counted. \n",
    "\n",
    "Look at some statistics computed on variable 'HumidityRatio. We know the lowest and the highest ratio, average value, and that 50% of values are under 30.0045, etc. But it´s hard to imagine how the distribution of 9752 observations looks like based these summary statistics."
   ]
  },
  {
   "cell_type": "code",
   "execution_count": null,
   "metadata": {},
   "outputs": [],
   "source": [
    "# Take a look at the descriptive statistics using .describe()\n",
    "data.HumidityRatio.describe()"
   ]
  },
  {
   "cell_type": "markdown",
   "metadata": {},
   "source": [
    "Let´s create a histogram of variable 'HumidityRatio'. You can use `.plot()` method and specify `kind = \"hist\"` within this method. Again, we select desired column by indexing the DataFrame. In this case, `Pandas` do not create x-axis label. Since `plot` function returns `matplotlib.axes.AxesSubplot`object, we have access to Matplotlib capabilities and can specify labels.\n",
    "\n",
    "`plt.xlabel` for x-axis  \n",
    "`plt.ylabel` for y-axis"
   ]
  },
  {
   "cell_type": "code",
   "execution_count": null,
   "metadata": {},
   "outputs": [],
   "source": [
    "# The Humidity ratio\n",
    "data['HumidityRatio'].plot(kind ='hist',\n",
    "                      figsize = (11,8),\n",
    "                      color = '#ff7f0e',\n",
    "                      alpha = .5,                            # Setting the transparency of a color                \n",
    "                      title = 'Humidity ratio distribution')\n",
    "\n",
    "plt.xlabel('Humidity Ratio');                                # Creating x-axis label"
   ]
  },
  {
   "cell_type": "markdown",
   "metadata": {},
   "source": [
    "Now we can see all of the 9752 data points plotted in one graph. In the resulting graph, we can see how the values are spread across a range from about 0.003 to 0.005. Most data points lie in the range of values 0.0043 to 0.0047."
   ]
  },
  {
   "cell_type": "markdown",
   "metadata": {},
   "source": [
    "Be default, this method separate all of the records into 10 bins. To verify whether our resulting graph accurately reflects the underlying data we should have some fun a and try to use different number of bins. Using different number of bins, the visual appearance of the histogram will be changing."
   ]
  },
  {
   "cell_type": "code",
   "execution_count": null,
   "metadata": {},
   "outputs": [],
   "source": [
    "# TASK 2 >>> Create a histogram of 'Humidity' in the same way as above\n",
    "#        >>> Try yourself to change the number of bins and observe the output \n",
    "#        >>> Play around and change the size of plot and the transparency to see the differences\n",
    "#        >>> Set x-axis label to 'Relative Humidity (%)'\n",
    "#        >>> Change default y-axis label (Frequency) to 'Number of occurences'\n",
    "\n"
   ]
  },
  {
   "cell_type": "markdown",
   "metadata": {},
   "source": [
    "By applying `.hist()` onto the DataFrame, we are able to create a histogram of selected column or columns. It is also posibble to visualize a distribution of variables of the whole dataset."
   ]
  },
  {
   "cell_type": "code",
   "execution_count": null,
   "metadata": {},
   "outputs": [],
   "source": [
    "# The data distribution of the whole DataFrame\n",
    "\n",
    "data.hist(layout=(2,4), grid = False)                    # Setting layout of 2 rows and 4 column and Disabling the grid\n",
    "plt.suptitle('The distribution of variables');           # Adding a suptitle using Matplotlib"
   ]
  },
  {
   "cell_type": "markdown",
   "metadata": {},
   "source": [
    "### 3.2.2 Boxplot (box-and-whisker plot)\n",
    "\n",
    "Another approach to visualize the distribution of the data is using boxplots. Moreover, the resulting plot will include [five-number summary](https://en.wikipedia.org/wiki/Five-number_summary): the smallest data point value, the first quartile (1Q), the median (Q2), the third quartile (Q3) and the largest data point value. Boxplots can reveal to us whether there are some possible outliers in the DataFrame and whether the data distribution is skewed or rather symmetrical.\n",
    "\n",
    "In order to draw a boxplot you can use `.plot()` method with specifying the `kind` keyword argument as 'box'. If we want to customize things such as color, width or style of the line, we can use `boxprops`,`whiskerprops`,`medianprops` and `capprops` parameter."
   ]
  },
  {
   "cell_type": "code",
   "execution_count": null,
   "metadata": {},
   "outputs": [],
   "source": [
    "# A boxplot of relative humidity\n",
    "\n",
    "data['HumidityRatio'].plot(kind = 'box', \n",
    "                           figsize = (9,5),\n",
    "                           boxprops = dict(linewidth = 1.5, color = 'green',linestyle = '-.'),# Customizing the box\n",
    "                           whiskerprops = dict(linewidth = 1.5, color = 'pink'),              # Customizing the whiskers\n",
    "                           medianprops = dict(linewidth = 1.5, color = 'red'),                # Customizing median line\n",
    "                           capprops = dict(linewidth = 1.5, color = 'darkblue'),              # Customizing caps on the whiskers\n",
    "                           title = 'Boxplot of Humidity ratio');"
   ]
  },
  {
   "cell_type": "markdown",
   "metadata": {},
   "source": [
    "This boxplot illustrates how the values of humidity ratio are spread out. Based on the shape it seems that distribution is rather symetrical and also there are no extreme values, e.g. outliers. The actual box represent 50% of records along with the median value that is displayed as a red line. You can return actual values (of quartiles/percentiles) using `quantile` function."
   ]
  },
  {
   "cell_type": "code",
   "execution_count": null,
   "metadata": {},
   "outputs": [],
   "source": [
    "# Compute 25th percentile, median value and 75th percentile of HumidityRatio variable\n",
    "perc_25, median, perc_75 = data.HumidityRatio.quantile([.25,.5,.75])"
   ]
  },
  {
   "cell_type": "code",
   "execution_count": null,
   "metadata": {},
   "outputs": [],
   "source": [
    "# Print the output\n",
    "perc_25, median, perc_75"
   ]
  },
  {
   "cell_type": "markdown",
   "metadata": {},
   "source": [
    "The alternative is to use `pandas` built-in method `DataFrame.boxplot()`. Since the boxplots are really usefull when comparing two or more groups, we´ll look at the amount of carbon dioxide according to a person´s presence. Selecting groups you´d like to compare can be done using `by` parameter with the respective variable. We´ll adjust the Figure size and rename x-tick labels.\n",
    "\n",
    "The axis grid lines are displayed by default. You can disable showing these lines by setting parameter `grid = False`."
   ]
  },
  {
   "cell_type": "code",
   "execution_count": null,
   "metadata": {},
   "outputs": [],
   "source": [
    "# A boxplot of CO2 by occupancy of the room\n",
    "\n",
    "data.boxplot(figsize = (10,8),\n",
    "             column = 'CO2', \n",
    "             by = 'Occupancy')\n",
    "\n",
    "# Setting x-tick labels using Matplotlib\n",
    "plt.xticks([1,2], ['Not occupied room','Occupied room']);"
   ]
  },
  {
   "cell_type": "markdown",
   "metadata": {},
   "source": [
    "Comparing the distribution of two groups can helps us to better understand the data. From the boxplots you can imediately see the difference in amount of CO2. When the room is occupied, the amount of carbon dioxide is higher, while 50% of data points have values in the range of about 620 up to slightly above 1000 ppm. Also the median values are completely different. When the room is empty, the amount of carbon dioxide is substantially lower, although plot indicates a lot of outliers. "
   ]
  },
  {
   "cell_type": "markdown",
   "metadata": {},
   "source": [
    "### 3.2.3 Bar plot\n",
    "\n",
    "Bar plots are useful when we want to compare categorical data based on their values. Each of the category will be plotted on the x-axis and the height of bars will be presented corresponding values. \n",
    "\n",
    "Let´s create simple DataFrame of students and theirs scores from exam for illustration. "
   ]
  },
  {
   "cell_type": "code",
   "execution_count": null,
   "metadata": {},
   "outputs": [],
   "source": [
    "# Example data\n",
    "\n",
    "sample_data = pd.DataFrame({'Student': ['Thomas','Margaret','Lisa','John','Elis','Sally','Marc','Angela','Sebastian'],\n",
    "                            'Score': [78,50,68,83,99,98,65,90,85],\n",
    "                            'Class': ['A','B','B','B','A','A','A','B','A']})\n",
    "sample_data"
   ]
  },
  {
   "cell_type": "code",
   "execution_count": null,
   "metadata": {},
   "outputs": [],
   "source": [
    "# A vertical barplot of students by their score\n",
    "\n",
    "sample_data.sort_values(by = 'Score', ascending = False).plot(x = 'Student', \n",
    "                                                              y = 'Score',\n",
    "                                                              kind = 'bar', \n",
    "                                                              rot = 45,\n",
    "                                                              color = ['mediumseagreen','lightgreen','sandybrown',\n",
    "                                                                      'lightcoral','wheat','lightsteelblue',\n",
    "                                                                      'slategrey','teal','black'],\n",
    "                                                              legend = False)\n",
    "plt.ylabel('Count');"
   ]
  },
  {
   "cell_type": "markdown",
   "metadata": {},
   "source": [
    "For creating a bar plot, we sort values by score in descending fashion to display student´s score. If your categories have longer labels, it´s appropriate to set rotation in order to avoid overlapping. You can explicitly set color of each bar either through specifying color name or hexadecimal color codes to `color` parameter.\n",
    "\n",
    "See this [link](https://seaborn.pydata.org/tutorial/color_palettes.html) from Seaborn where the general principles of using color in plots are described. \n",
    "___\n",
    "\n",
    "You can also choose one of the built-in colormaps provided by Matplotlib. Colormaps can be accessed through `plt.cm` (`cm` stands for colormap). After that, specify a chosen colormap by its name. A reversed version of each available colormap can be done by appending `_r`to colormap´s name. Using Numpy´s `arange()` function we specify an interval of colors we want to select. "
   ]
  },
  {
   "cell_type": "code",
   "execution_count": null,
   "metadata": {},
   "outputs": [],
   "source": [
    "# TASK 3 >>> Reuse the code above and create a horizontal barplot (kind = 'barh') of students score\n",
    "#        >>> Set the colormaps with code: plt.cm.Set3_r(np.arange(len(sample_data)))\n",
    "#        >>> Disable a legend\n",
    "#        >>> Set x-axis label to 'Count'\n",
    "\n"
   ]
  },
  {
   "cell_type": "markdown",
   "metadata": {},
   "source": [
    "To visualize count of students based on in which class they are, we count the number of occurences and plot it."
   ]
  },
  {
   "cell_type": "code",
   "execution_count": null,
   "metadata": {},
   "outputs": [],
   "source": [
    "sample_data.Class.value_counts().plot(kind = 'bar', rot = 0)\n",
    "plt.xlabel('Class')\n",
    "plt.ylabel('Count');"
   ]
  },
  {
   "cell_type": "markdown",
   "metadata": {},
   "source": [
    "# 4. Practice time\n",
    "\n",
    "For the further visualizations we´ll use data related to habits of individuals in terms of eating habits, transportation and devices they use and attributes of physical condition. This dataset can be found [here](https://archive.ics.uci.edu/ml/datasets/Estimation+of+obesity+levels+based+on+eating+habits+and+physical+condition+#)."
   ]
  },
  {
   "cell_type": "code",
   "execution_count": null,
   "metadata": {},
   "outputs": [],
   "source": [
    "# Read the data\n",
    "data_ob = pd.read_csv('Datasets/obesity_data.csv')"
   ]
  },
  {
   "cell_type": "code",
   "execution_count": null,
   "metadata": {},
   "outputs": [],
   "source": [
    "# Take a look at the data\n",
    "data_ob"
   ]
  },
  {
   "cell_type": "markdown",
   "metadata": {},
   "source": [
    "## 4.1 Attributes explanation\n",
    "\n",
    "The first 5 variables involves some basic information about individuals along with the information about presence of overweight in a family.\n",
    "\n",
    "- Gender: the gender\n",
    "- Age: the age\n",
    "- Height: the height \n",
    "- Weight: the weight \n",
    "- family_history_with_overweight: family member who is/was overweight\n",
    "\n",
    "Variables related to eating habits:\n",
    "\n",
    "- FAVC: whether an individual consumes high caloric food frequently\n",
    "- FCVC: how frequently is vegetables used in main meals\n",
    "- NCP: the number of main meals per day\n",
    "- CAEC: consuming any food between main meals\n",
    "- SMOKE: smoking\n",
    "- CH2O: consumption of water per day\n",
    "\n",
    "Variables related to physical condition:\n",
    "- SCC: calories intake tracking\n",
    "- FAF: physical activity frequency\n",
    "- TUE: usage of technological devices per day\n",
    "- CALC: alcohol consumption\n",
    "- MTRANS: type of transportation\n",
    "\n",
    "The last variable 'NObeyesdad' was created using equation for BMI (Body Mass Index) for each individual. Resulting values were compared with the data provided by WHO (World Health Organization) and the Mexican Normativity. \n",
    "\n",
    "Resulting labels:\n",
    "\n",
    "-Underweight (< 18.5)   \n",
    "-Normal (18.5 - 24.9)   \n",
    "-Overweight (25 - 29.9)  \n",
    "-Obesity I (30 - 34.9)  \n",
    "-Obesity II (35 - 39)  \n",
    "-Obesity III (> 40)  "
   ]
  },
  {
   "cell_type": "markdown",
   "metadata": {},
   "source": [
    "### 4.1.1 Exploring the data"
   ]
  },
  {
   "cell_type": "code",
   "execution_count": null,
   "metadata": {},
   "outputs": [],
   "source": [
    "# Check variables data type\n",
    "data_ob.dtypes"
   ]
  },
  {
   "cell_type": "code",
   "execution_count": null,
   "metadata": {},
   "outputs": [],
   "source": [
    "# Explore descriptive statistics\n",
    "data_ob.describe()"
   ]
  },
  {
   "cell_type": "code",
   "execution_count": null,
   "metadata": {},
   "outputs": [],
   "source": [
    "# Check missing values\n",
    "data_ob.isnull().sum()"
   ]
  },
  {
   "cell_type": "code",
   "execution_count": null,
   "metadata": {},
   "outputs": [],
   "source": [
    "# Duplicated rows\n",
    "data_ob.duplicated().sum()"
   ]
  },
  {
   "cell_type": "code",
   "execution_count": null,
   "metadata": {},
   "outputs": [],
   "source": [
    "# Removing duplicated rows\n",
    "data_ob.drop_duplicates(inplace = True)"
   ]
  },
  {
   "cell_type": "code",
   "execution_count": null,
   "metadata": {},
   "outputs": [],
   "source": [
    "# TASK 4 >>> Create a boxplot of 'Age' variable\n",
    "#        >>> Set the size of a plot to (10,8)\n",
    "\n"
   ]
  },
  {
   "cell_type": "markdown",
   "metadata": {},
   "source": [
    "> What can you say about the distribution of ages? How old is the majority of people ? Is the distribution symmetrical; or are there people who are older compared to the majority?"
   ]
  },
  {
   "cell_type": "code",
   "execution_count": null,
   "metadata": {},
   "outputs": [],
   "source": [
    "# TASK 5 >>> Visualize the distribution of 'Weight' variable using a histogram\n",
    "#        >>> Disable a grid line\n",
    "#        >>> Try to set different numbers of bins\n",
    "\n"
   ]
  },
  {
   "cell_type": "markdown",
   "metadata": {},
   "source": [
    "> Based on the histogram, what is the most common weight? Does this distribution look symmetrical, oir rather bimodal? Could a different number of bins reflect the data better?"
   ]
  },
  {
   "cell_type": "code",
   "execution_count": null,
   "metadata": {},
   "outputs": [],
   "source": [
    "# TASK 6 >>> Create a normalized barplot of 'Gender' - specify parameter: normalize = True, to get percentages instead of counts\n",
    "#        >>> Assing different colors to males and females (male to 'salmon', female to 'skyblue')\n",
    "#        >>> Add title: 'Proportion of gender'\n",
    "#                x-axis label: 'Gender' \n",
    "#                y-axis label: 'The percentage'\n",
    "\n"
   ]
  },
  {
   "cell_type": "code",
   "execution_count": null,
   "metadata": {},
   "outputs": [],
   "source": [
    "# TASK 7 >>> Create boxplots of 'Age' by gender\n",
    "\n"
   ]
  },
  {
   "cell_type": "markdown",
   "metadata": {},
   "source": [
    "> Compare the ranges of values for male and female: Is the distribution similar or is there some difference? Do you see any outliers? "
   ]
  },
  {
   "cell_type": "code",
   "execution_count": null,
   "metadata": {},
   "outputs": [],
   "source": [
    "# TASK 8 >>> Find out how many people eat frequently high caloric meals ('FAVC')\n",
    "#        >>> Set rotation of x-ticks to 0 degrees\n",
    "\n"
   ]
  },
  {
   "cell_type": "markdown",
   "metadata": {},
   "source": [
    "The question we might ask regarding obesity levels could be: 'Which individuals are more likely to be obese based on their age?' or 'Are younger adults overweight?'.\n",
    "\n",
    "Firstly, let´s look how many levels are there. We call `.value_counts()` function on 'Nobeyesdad' variable and sort categories based on the obesity level."
   ]
  },
  {
   "cell_type": "code",
   "execution_count": null,
   "metadata": {},
   "outputs": [],
   "source": [
    "# Counting values of the obesity levels\n",
    "data_ob.NObeyesdad.value_counts()"
   ]
  },
  {
   "cell_type": "markdown",
   "metadata": {},
   "source": [
    "Firstly, we define order of obesity levels in list and assign it to variable obesity_levels."
   ]
  },
  {
   "cell_type": "code",
   "execution_count": null,
   "metadata": {},
   "outputs": [],
   "source": [
    "# Ordered categories\n",
    "obesity_levels = ['Insufficient_Weight','Normal_Weight', 'Overweight_Level_I', 'Overweight_Level_II',\n",
    "                  'Obesity_Type_I', 'Obesity_Type_II', 'Obesity_Type_III']"
   ]
  },
  {
   "cell_type": "markdown",
   "metadata": {},
   "source": [
    "Then we create CategoricalDtype where we specify categories and orderness."
   ]
  },
  {
   "cell_type": "code",
   "execution_count": null,
   "metadata": {},
   "outputs": [],
   "source": [
    "# Creating CategoricalDtype \n",
    "ob_level = pd.api.types.CategoricalDtype(ordered = True, categories = obesity_levels)"
   ]
  },
  {
   "cell_type": "markdown",
   "metadata": {},
   "source": [
    "The last step is converting original data type of '.NObeyesdad' variable to created CategoricalDtype."
   ]
  },
  {
   "cell_type": "code",
   "execution_count": null,
   "metadata": {},
   "outputs": [],
   "source": [
    "# Converting 'NObeyesdad' to created categoricalDtype\n",
    "data_ob.NObeyesdad = data_ob.NObeyesdad.astype(ob_level)"
   ]
  },
  {
   "cell_type": "markdown",
   "metadata": {},
   "source": [
    "We can plot obesity levels to see how these vary according to age of individuals. To avoid overlapping label names of these categories, you can set the rotation of labels to 45 degree with `rot` parameter. Also disabling grid lines can help visualization to be more comprendious."
   ]
  },
  {
   "cell_type": "code",
   "execution_count": null,
   "metadata": {},
   "outputs": [],
   "source": [
    "# TASK 9 >>> Create a boxplot of column 'Age' by 'NObeyesdad'\n",
    "#        >>> Set a Figure size: (10,8)\n",
    "#        >>> Set labels on x-axis to 45 using rot parameter\n",
    "#        >>> Disable grid line\n",
    "\n"
   ]
  },
  {
   "cell_type": "markdown",
   "metadata": {},
   "source": [
    "> Looking at the created plot, can you see some pattern? At what ages people tend to suffer from some kind of obesity level? "
   ]
  },
  {
   "cell_type": "code",
   "execution_count": null,
   "metadata": {},
   "outputs": [],
   "source": [
    "# TASK 10 >>> Create a bar plot of 'MTRANS' variable to find out how many people use certain kind of transportation\n",
    "#         >>> Set labels on x-axis to 45 using rot parameter\n",
    "#         >>> Set color: 'skyblue'\n",
    "#         >>> What is the most popular kind of transportation? \n",
    "\n"
   ]
  },
  {
   "cell_type": "markdown",
   "metadata": {},
   "source": [
    "Let´s filter only those individuals who use an automobile for transportation; or walk. Then we´ll look at their weight."
   ]
  },
  {
   "cell_type": "code",
   "execution_count": null,
   "metadata": {},
   "outputs": [],
   "source": [
    "# Filter only those rows where transportation kind is 'Automobile' and 'Walking'\n",
    "# DataFrame.query will be explained more in the latter notebook, so don´t worry about it now\n",
    "subset_transport = data_ob.query('MTRANS in [\"Automobile\",\"Walking\"]')"
   ]
  },
  {
   "cell_type": "code",
   "execution_count": null,
   "metadata": {},
   "outputs": [],
   "source": [
    "# TASK 11 >>> Create a boxplot of newly created subset_transport DataFrame\n",
    "#         >>> Set a Figure size: (10,8)\n",
    "#         >>> Set 'Weight' to column parameter and 'MTRANS' to by parameter\n",
    "#         >>> Set labels on x-axis to 45 using rot parameter\n",
    "#         >>> Disable a grid line\n",
    "\n"
   ]
  },
  {
   "cell_type": "markdown",
   "metadata": {},
   "source": [
    "> What can you say about the distribution of these two groups of people? Which group has lower weight overall? Looking at the boxplots, I think it´s kind of motivation for all of us to consider type of transportation next time we´ll need to go somewhere :) "
   ]
  },
  {
   "cell_type": "markdown",
   "metadata": {},
   "source": [
    "### Citation request:\n",
    "Accurate occupancy detection of an office room from light, temperature, humidity and CO2 measurements using statistical learning models. Luis M. Candanedo, VÃ©ronique Feldheim. Energy and Buildings. Volume 112, 15 January 2016, Pages 28-39.\n",
    "\n",
    "Palechor, F. M., & de la Hoz Manotas, A. (2019). Dataset for estimation of obesity levels based on eating habits and physical condition in individuals from Colombia, Peru and Mexico. Data in Brief, 104344.\n",
    "\n",
    "Material adapted for RBI internal purposes with full permissions from original authors. [Source](https://github.com/zatkopatrik/authentic-data-science) "
   ]
  },
  {
   "cell_type": "code",
   "execution_count": null,
   "metadata": {},
   "outputs": [],
   "source": []
  }
 ],
 "metadata": {
  "kernelspec": {
   "display_name": "Python 3",
   "language": "python",
   "name": "python3"
  },
  "language_info": {
   "codemirror_mode": {
    "name": "ipython",
    "version": 3
   },
   "file_extension": ".py",
   "mimetype": "text/x-python",
   "name": "python",
   "nbconvert_exporter": "python",
   "pygments_lexer": "ipython3",
   "version": "3.7.1"
  }
 },
 "nbformat": 4,
 "nbformat_minor": 4
}
