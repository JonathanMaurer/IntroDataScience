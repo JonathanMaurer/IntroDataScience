{
 "cells": [
  {
   "cell_type": "markdown",
   "id": "889de43d",
   "metadata": {},
   "source": [
    "**Go to upper left menu -> Run - Run all cells**\n",
    "\n",
    "Running this notebook ensures that you have the desired versions of the packages.  \n",
    "Statsmodels >= 0.13.2  \n",
    "nltk >= 3.7  \n",
    "gensim >= 4.2.0  \n",
    "html5lib >= 1.1  \n",
    "rgf-python >= 3.12.0  \n",
    "pyldavis >= 3.3.1  \n",
    "tensorflow >= 2.8.0  "
   ]
  },
  {
   "cell_type": "code",
   "execution_count": 1,
   "id": "8a8de577",
   "metadata": {},
   "outputs": [],
   "source": [
    "!pip install -U -q statsmodels"
   ]
  },
  {
   "cell_type": "code",
   "execution_count": 2,
   "id": "aba73eec",
   "metadata": {},
   "outputs": [],
   "source": [
    "!pip install -U -q nltk"
   ]
  },
  {
   "cell_type": "code",
   "execution_count": 3,
   "id": "9a3ab585",
   "metadata": {},
   "outputs": [],
   "source": [
    "!pip install -U -q gensim"
   ]
  },
  {
   "cell_type": "code",
   "execution_count": 4,
   "id": "405b8aa0",
   "metadata": {},
   "outputs": [],
   "source": [
    "!pip install -U -q html5lib"
   ]
  },
  {
   "cell_type": "code",
   "execution_count": 5,
   "id": "16dfb906",
   "metadata": {},
   "outputs": [],
   "source": [
    "!pip install -U -q rgf-python"
   ]
  },
  {
   "cell_type": "code",
   "execution_count": 6,
   "id": "c55155df",
   "metadata": {},
   "outputs": [],
   "source": [
    "!pip install -U -q pyldavis"
   ]
  },
  {
   "cell_type": "code",
   "execution_count": 7,
   "id": "267fcb92",
   "metadata": {},
   "outputs": [],
   "source": [
    "!pip install -U -q tensorflow"
   ]
  }
 ],
 "metadata": {
  "kernelspec": {
   "display_name": "Python 3 (ipykernel)",
   "language": "python",
   "name": "python3"
  },
  "language_info": {
   "codemirror_mode": {
    "name": "ipython",
    "version": 3
   },
   "file_extension": ".py",
   "mimetype": "text/x-python",
   "name": "python",
   "nbconvert_exporter": "python",
   "pygments_lexer": "ipython3",
   "version": "3.7.12"
  }
 },
 "nbformat": 4,
 "nbformat_minor": 5
}
