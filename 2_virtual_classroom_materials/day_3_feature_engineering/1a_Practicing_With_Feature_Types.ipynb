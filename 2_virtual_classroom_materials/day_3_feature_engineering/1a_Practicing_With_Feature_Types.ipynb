{
 "cells": [
  {
   "cell_type": "markdown",
   "metadata": {
    "id": "zZZiWT-Bp02G"
   },
   "source": [
    "# Exploring Feature Types\n",
    "\n",
    "In this notebook, we will be using Titanic dataset containing 891 records of passengers on board and 12 features such as their age, travel class and ticket's fare. One step at a time we'll inspect continuous and categorical feature types with help of visualizations. \n",
    "\n",
    "Firstly, we import necessary libraries and load the data using Pandas."
   ]
  },
  {
   "cell_type": "code",
   "execution_count": 2,
   "metadata": {
    "id": "tQZLXrNnp02M"
   },
   "outputs": [],
   "source": [
    "# Importing Pandas, Matplotlib and Seaborn libraries\n",
    "import pandas as pd\n",
    "import matplotlib.pyplot as plt\n",
    "import seaborn as sns\n",
    "sns.set_style(\"dark\")"
   ]
  },
  {
   "cell_type": "code",
   "execution_count": 3,
   "metadata": {
    "colab": {
     "base_uri": "https://localhost:8080/",
     "height": 359
    },
    "id": "zDHkqMWop02O",
    "outputId": "e386760f-b008-4889-c228-d6677d26a7e5"
   },
   "outputs": [
    {
     "data": {
      "text/html": [
       "<div>\n",
       "<style scoped>\n",
       "    .dataframe tbody tr th:only-of-type {\n",
       "        vertical-align: middle;\n",
       "    }\n",
       "\n",
       "    .dataframe tbody tr th {\n",
       "        vertical-align: top;\n",
       "    }\n",
       "\n",
       "    .dataframe thead th {\n",
       "        text-align: right;\n",
       "    }\n",
       "</style>\n",
       "<table border=\"1\" class=\"dataframe\">\n",
       "  <thead>\n",
       "    <tr style=\"text-align: right;\">\n",
       "      <th></th>\n",
       "      <th>PassengerId</th>\n",
       "      <th>Survived</th>\n",
       "      <th>Pclass</th>\n",
       "      <th>Name</th>\n",
       "      <th>Sex</th>\n",
       "      <th>Age</th>\n",
       "      <th>SibSp</th>\n",
       "      <th>Parch</th>\n",
       "      <th>Ticket</th>\n",
       "      <th>Fare</th>\n",
       "      <th>Cabin</th>\n",
       "      <th>Embarked</th>\n",
       "    </tr>\n",
       "  </thead>\n",
       "  <tbody>\n",
       "    <tr>\n",
       "      <th>0</th>\n",
       "      <td>1</td>\n",
       "      <td>0</td>\n",
       "      <td>3</td>\n",
       "      <td>Braund, Mr. Owen Harris</td>\n",
       "      <td>male</td>\n",
       "      <td>22.0</td>\n",
       "      <td>1</td>\n",
       "      <td>0</td>\n",
       "      <td>A/5 21171</td>\n",
       "      <td>7.2500</td>\n",
       "      <td>NaN</td>\n",
       "      <td>S</td>\n",
       "    </tr>\n",
       "    <tr>\n",
       "      <th>1</th>\n",
       "      <td>2</td>\n",
       "      <td>1</td>\n",
       "      <td>1</td>\n",
       "      <td>Cumings, Mrs. John Bradley (Florence Briggs Th...</td>\n",
       "      <td>female</td>\n",
       "      <td>38.0</td>\n",
       "      <td>1</td>\n",
       "      <td>0</td>\n",
       "      <td>PC 17599</td>\n",
       "      <td>71.2833</td>\n",
       "      <td>C85</td>\n",
       "      <td>C</td>\n",
       "    </tr>\n",
       "    <tr>\n",
       "      <th>2</th>\n",
       "      <td>3</td>\n",
       "      <td>1</td>\n",
       "      <td>3</td>\n",
       "      <td>Heikkinen, Miss. Laina</td>\n",
       "      <td>female</td>\n",
       "      <td>26.0</td>\n",
       "      <td>0</td>\n",
       "      <td>0</td>\n",
       "      <td>STON/O2. 3101282</td>\n",
       "      <td>7.9250</td>\n",
       "      <td>NaN</td>\n",
       "      <td>S</td>\n",
       "    </tr>\n",
       "    <tr>\n",
       "      <th>3</th>\n",
       "      <td>4</td>\n",
       "      <td>1</td>\n",
       "      <td>1</td>\n",
       "      <td>Futrelle, Mrs. Jacques Heath (Lily May Peel)</td>\n",
       "      <td>female</td>\n",
       "      <td>35.0</td>\n",
       "      <td>1</td>\n",
       "      <td>0</td>\n",
       "      <td>113803</td>\n",
       "      <td>53.1000</td>\n",
       "      <td>C123</td>\n",
       "      <td>S</td>\n",
       "    </tr>\n",
       "    <tr>\n",
       "      <th>4</th>\n",
       "      <td>5</td>\n",
       "      <td>0</td>\n",
       "      <td>3</td>\n",
       "      <td>Allen, Mr. William Henry</td>\n",
       "      <td>male</td>\n",
       "      <td>35.0</td>\n",
       "      <td>0</td>\n",
       "      <td>0</td>\n",
       "      <td>373450</td>\n",
       "      <td>8.0500</td>\n",
       "      <td>NaN</td>\n",
       "      <td>S</td>\n",
       "    </tr>\n",
       "    <tr>\n",
       "      <th>5</th>\n",
       "      <td>6</td>\n",
       "      <td>0</td>\n",
       "      <td>3</td>\n",
       "      <td>Moran, Mr. James</td>\n",
       "      <td>male</td>\n",
       "      <td>NaN</td>\n",
       "      <td>0</td>\n",
       "      <td>0</td>\n",
       "      <td>330877</td>\n",
       "      <td>8.4583</td>\n",
       "      <td>NaN</td>\n",
       "      <td>Q</td>\n",
       "    </tr>\n",
       "    <tr>\n",
       "      <th>6</th>\n",
       "      <td>7</td>\n",
       "      <td>0</td>\n",
       "      <td>1</td>\n",
       "      <td>McCarthy, Mr. Timothy J</td>\n",
       "      <td>male</td>\n",
       "      <td>54.0</td>\n",
       "      <td>0</td>\n",
       "      <td>0</td>\n",
       "      <td>17463</td>\n",
       "      <td>51.8625</td>\n",
       "      <td>E46</td>\n",
       "      <td>S</td>\n",
       "    </tr>\n",
       "    <tr>\n",
       "      <th>7</th>\n",
       "      <td>8</td>\n",
       "      <td>0</td>\n",
       "      <td>3</td>\n",
       "      <td>Palsson, Master. Gosta Leonard</td>\n",
       "      <td>male</td>\n",
       "      <td>2.0</td>\n",
       "      <td>3</td>\n",
       "      <td>1</td>\n",
       "      <td>349909</td>\n",
       "      <td>21.0750</td>\n",
       "      <td>NaN</td>\n",
       "      <td>S</td>\n",
       "    </tr>\n",
       "    <tr>\n",
       "      <th>8</th>\n",
       "      <td>9</td>\n",
       "      <td>1</td>\n",
       "      <td>3</td>\n",
       "      <td>Johnson, Mrs. Oscar W (Elisabeth Vilhelmina Berg)</td>\n",
       "      <td>female</td>\n",
       "      <td>27.0</td>\n",
       "      <td>0</td>\n",
       "      <td>2</td>\n",
       "      <td>347742</td>\n",
       "      <td>11.1333</td>\n",
       "      <td>NaN</td>\n",
       "      <td>S</td>\n",
       "    </tr>\n",
       "    <tr>\n",
       "      <th>9</th>\n",
       "      <td>10</td>\n",
       "      <td>1</td>\n",
       "      <td>2</td>\n",
       "      <td>Nasser, Mrs. Nicholas (Adele Achem)</td>\n",
       "      <td>female</td>\n",
       "      <td>14.0</td>\n",
       "      <td>1</td>\n",
       "      <td>0</td>\n",
       "      <td>237736</td>\n",
       "      <td>30.0708</td>\n",
       "      <td>NaN</td>\n",
       "      <td>C</td>\n",
       "    </tr>\n",
       "  </tbody>\n",
       "</table>\n",
       "</div>"
      ],
      "text/plain": [
       "   PassengerId  Survived  Pclass  \\\n",
       "0            1         0       3   \n",
       "1            2         1       1   \n",
       "2            3         1       3   \n",
       "3            4         1       1   \n",
       "4            5         0       3   \n",
       "5            6         0       3   \n",
       "6            7         0       1   \n",
       "7            8         0       3   \n",
       "8            9         1       3   \n",
       "9           10         1       2   \n",
       "\n",
       "                                                Name     Sex   Age  SibSp  \\\n",
       "0                            Braund, Mr. Owen Harris    male  22.0      1   \n",
       "1  Cumings, Mrs. John Bradley (Florence Briggs Th...  female  38.0      1   \n",
       "2                             Heikkinen, Miss. Laina  female  26.0      0   \n",
       "3       Futrelle, Mrs. Jacques Heath (Lily May Peel)  female  35.0      1   \n",
       "4                           Allen, Mr. William Henry    male  35.0      0   \n",
       "5                                   Moran, Mr. James    male   NaN      0   \n",
       "6                            McCarthy, Mr. Timothy J    male  54.0      0   \n",
       "7                     Palsson, Master. Gosta Leonard    male   2.0      3   \n",
       "8  Johnson, Mrs. Oscar W (Elisabeth Vilhelmina Berg)  female  27.0      0   \n",
       "9                Nasser, Mrs. Nicholas (Adele Achem)  female  14.0      1   \n",
       "\n",
       "   Parch            Ticket     Fare Cabin Embarked  \n",
       "0      0         A/5 21171   7.2500   NaN        S  \n",
       "1      0          PC 17599  71.2833   C85        C  \n",
       "2      0  STON/O2. 3101282   7.9250   NaN        S  \n",
       "3      0            113803  53.1000  C123        S  \n",
       "4      0            373450   8.0500   NaN        S  \n",
       "5      0            330877   8.4583   NaN        Q  \n",
       "6      0             17463  51.8625   E46        S  \n",
       "7      1            349909  21.0750   NaN        S  \n",
       "8      2            347742  11.1333   NaN        S  \n",
       "9      0            237736  30.0708   NaN        C  "
      ]
     },
     "execution_count": 3,
     "metadata": {},
     "output_type": "execute_result"
    }
   ],
   "source": [
    "# Load the dataset 'Data/titanic_data.csv' and store it to variable data\n",
    "data = pd.read_csv('./Data/titanic_data.csv')\n",
    "# Get first 10 rows of the data\n",
    "data.head(10)"
   ]
  },
  {
   "cell_type": "markdown",
   "metadata": {
    "id": "8WkPaUdnp02Q"
   },
   "source": [
    "Take a look at the first ten rows and read through the below explanation to understand what each feature represents.\n",
    "\n",
    "- passengerID\n",
    "- Name\n",
    "- Sex\n",
    "- Age\n",
    "- Survived - not survived = 0, survived = 1, (target feature)\n",
    "- Pclass - ticket class = 1st, 2nd, 3rd\n",
    "- SibSp - number of siblings or spouses aboard the Titanic\n",
    "- Parch - number of parents or children aboard the Titanic\n",
    "- Ticket - ticket number\n",
    "- Fare - ticket fare\n",
    "- Cabin - cabin number\n",
    "- Embarked - port of embarkation (C = Cherbourg, Q = Queenstown, S = Southampton)"
   ]
  },
  {
   "cell_type": "markdown",
   "metadata": {
    "id": "lWoldJ7Ap02Q"
   },
   "source": [
    "# 1. Numerical Features\n",
    "\n",
    "## 1.1 Unbounded continuous type\n",
    "One of the numerical feature is 'Fare' representing the price that a passenger paid for the ticket. The price starts at zero and continuosly increases within a specific range. This is the example of unbounded continuous feature type because the number can takes any value including decimal numbers with a fractional part. "
   ]
  },
  {
   "cell_type": "code",
   "execution_count": null,
   "metadata": {
    "colab": {
     "base_uri": "https://localhost:8080/",
     "height": 518
    },
    "id": "l0Ia8GQ9t0Kn",
    "outputId": "11379475-7ac0-45fa-ff8f-d50b4413acd1"
   },
   "outputs": [
    {
     "data": {
      "image/png": "[encoded data removed]",
      "text/plain": [
       "<Figure size 864x576 with 1 Axes>"
      ]
     },
     "metadata": {
      "tags": []
     },
     "output_type": "display_data"
    }
   ],
   "source": [
    "# Creating a histogram of 'Fare' \n",
    "sns.histplot(data = data, x = 'Fare', binwidth = 15)\n",
    "plt.title(\"Distribution of passenger's fare\");"
   ]
  },
  {
   "cell_type": "markdown",
   "metadata": {
    "id": "hGwXsF8LJxMh"
   },
   "source": [
    "Next numerical continuous feature is 'Age'. The other characteristic of continuous feature is that it can be measured, as we can measure the age in years, for example. Let´s create a boxplot to see its distribution. "
   ]
  },
  {
   "cell_type": "code",
   "execution_count": null,
   "metadata": {
    "colab": {
     "base_uri": "https://localhost:8080/",
     "height": 500
    },
    "id": "L4kdunrQKKJA",
    "outputId": "bbaf8934-ea2a-4c81-df51-ee7349cf7f24"
   },
   "outputs": [
    {
     "data": {
      "image/png": "[encoded data removed]",
      "text/plain": [
       "<Figure size 864x576 with 1 Axes>"
      ]
     },
     "metadata": {
      "tags": []
     },
     "output_type": "display_data"
    }
   ],
   "source": [
    "# Creating a boxplot of 'Age'\n",
    "sns.boxplot(data=data, x = 'Age',color ='r');"
   ]
  },
  {
   "cell_type": "markdown",
   "metadata": {
    "id": "Wa6mxrzWp02S"
   },
   "source": [
    "## 1.2 Unbounded discrete type\n",
    "\n",
    "The feature 'SibSp' represents family relations as siblings or spouses. We can treat this feature as the discrete since the number is always some \"isolated\" value - logically, you can't report that you have 2.5 sisters.\n",
    "\n",
    "When we call `value_counts()` function on 'SibSp' column, we get all of the unique values along with corresponding counts. "
   ]
  },
  {
   "cell_type": "code",
   "execution_count": null,
   "metadata": {
    "colab": {
     "base_uri": "https://localhost:8080/"
    },
    "id": "frmuD6hTp02S",
    "outputId": "ea87bdb1-9fe1-466c-970f-b7e9cd6d76e7"
   },
   "outputs": [
    {
     "data": {
      "text/plain": [
       "0    608\n",
       "1    209\n",
       "2     28\n",
       "4     18\n",
       "3     16\n",
       "8      7\n",
       "5      5\n",
       "Name: SibSp, dtype: int64"
      ]
     },
     "execution_count": 180,
     "metadata": {
      "tags": []
     },
     "output_type": "execute_result"
    }
   ],
   "source": [
    "# Get the counts of unique values of 'SibSp'\n",
    "data['SibSp'].value_counts()"
   ]
  },
  {
   "cell_type": "markdown",
   "metadata": {
    "id": "Qy6ZjRrvY7kH"
   },
   "source": [
    "When we visualize such a discrete feature, let´s say with a countplot, each bar represents a unique integer value with respective count of records. There is no overlapping between these fixed values because they are counted, not measured."
   ]
  },
  {
   "cell_type": "code",
   "execution_count": null,
   "metadata": {
    "colab": {
     "base_uri": "https://localhost:8080/",
     "height": 518
    },
    "id": "uISDKDkH0dMI",
    "outputId": "ffb073ae-68b6-4876-b958-31d3d95c23e1"
   },
   "outputs": [
    {
     "data": {
      "image/png": "[encoded data removed]",
      "text/plain": [
       "<Figure size 864x576 with 1 Axes>"
      ]
     },
     "metadata": {
      "tags": []
     },
     "output_type": "display_data"
    }
   ],
   "source": [
    "# Creating a countplot of 'SibSp'\n",
    "sns.countplot(data = data, x = 'SibSp', color = 'darkgreen')\n",
    "plt.title('Number of parents or children');"
   ]
  },
  {
   "cell_type": "markdown",
   "metadata": {
    "id": "XIpHsKBYpMFL"
   },
   "source": [
    "# 2. Categorical Features\n",
    "\n",
    "Categorical features contain a set of distinct categories (also called labels), while each category can takes only one limited and fixed value. As you saw in the preceding video, categorical features are divided into the two 'subtypes' based on whether their values have order or not. \n",
    "\n",
    "## 2.1 Ordinal categorical features\n",
    "\n",
    "Let´s take as an example 'Pclass' feature that holds information about three ticket classes what passengers paid for: 1st, 2nd and 3rd class. These travel classes reflect socioeconomic status of the passengers aboard. They have the specific order and can be related to the target feature. Were the wealthiest passengers travelling in the first class more likely to survive? Or the travel class is of no importance in terms of survival? \n",
    "\n",
    "Ordinal categorical features can be either numeric values or labels. Still it would be nice to keep the information about order of values and present it into the predictive model. This would be the additional information that can make the model's predictions better.\n",
    "\n",
    "\n"
   ]
  },
  {
   "cell_type": "code",
   "execution_count": null,
   "metadata": {
    "colab": {
     "base_uri": "https://localhost:8080/"
    },
    "id": "rEPpGCGCxNuA",
    "outputId": "f90bb266-5cb9-4881-8873-328ba1f6ed75"
   },
   "outputs": [
    {
     "data": {
      "text/plain": [
       "3    491\n",
       "1    216\n",
       "2    184\n",
       "Name: Pclass, dtype: int64"
      ]
     },
     "execution_count": 182,
     "metadata": {
      "tags": []
     },
     "output_type": "execute_result"
    }
   ],
   "source": [
    "# Get the counts of unique values of 'Pclass'\n",
    "data.Pclass.value_counts()"
   ]
  },
  {
   "cell_type": "code",
   "execution_count": null,
   "metadata": {
    "colab": {
     "base_uri": "https://localhost:8080/",
     "height": 500
    },
    "id": "TCVKER2b5TLo",
    "outputId": "1ffec8cc-3ea9-4eee-cc90-2887aa1129f6"
   },
   "outputs": [
    {
     "data": {
      "image/png": "[encoded data removed]",
      "text/plain": [
       "<Figure size 864x576 with 1 Axes>"
      ]
     },
     "metadata": {
      "tags": []
     },
     "output_type": "display_data"
    }
   ],
   "source": [
    "# Creating a countplot of 'Pclass'\n",
    "sns.countplot(data = data, x = 'Pclass', color = 'violet');"
   ]
  },
  {
   "cell_type": "markdown",
   "metadata": {
    "id": "15kROvQLM8Pr"
   },
   "source": [
    "\n",
    "## 2.2 Non-ordinal categorical features\n",
    "The second 'subtype' of categorical features are non-ordinal features. Let´s take as an example the feature 'Embarked'. It contains information about port of embarkation, namely Cherbourg, Queenstown and Southampton. So these are specific categories without any order or relationship among them.\n",
    "\n"
   ]
  },
  {
   "cell_type": "code",
   "execution_count": null,
   "metadata": {
    "colab": {
     "base_uri": "https://localhost:8080/"
    },
    "id": "icBYcmgLp02Y",
    "outputId": "d6d50a33-5a7e-4dc6-abf2-fc8b3fddd70b"
   },
   "outputs": [
    {
     "data": {
      "text/plain": [
       "S    644\n",
       "C    168\n",
       "Q     77\n",
       "Name: Embarked, dtype: int64"
      ]
     },
     "execution_count": 184,
     "metadata": {
      "tags": []
     },
     "output_type": "execute_result"
    }
   ],
   "source": [
    "# Get the categories of 'Embarked' \n",
    "data['Embarked'].value_counts()"
   ]
  },
  {
   "cell_type": "code",
   "execution_count": null,
   "metadata": {
    "colab": {
     "base_uri": "https://localhost:8080/",
     "height": 500
    },
    "id": "CYxqPLZUpO46",
    "outputId": "8590b2c0-c001-4918-effb-671665385e08"
   },
   "outputs": [
    {
     "data": {
      "image/png": "[encoded data removed]",
      "text/plain": [
       "<Figure size 864x576 with 1 Axes>"
      ]
     },
     "metadata": {
      "tags": []
     },
     "output_type": "display_data"
    }
   ],
   "source": [
    "# Creating a countplot of 'Embarked'\n",
    "sns.countplot(data = data, x = 'Embarked', color = 'lightblue');"
   ]
  },
  {
   "cell_type": "markdown",
   "metadata": {
    "id": "BzM7fdo1p02T"
   },
   "source": [
    "## 2.3 Binary categorical features\n",
    "\n",
    "Binary categorical features are the special type of categorical features and can take only 2 values. There is 'Survived' feature in our dataset that contains 2 values: 0 and 1:"
   ]
  },
  {
   "cell_type": "code",
   "execution_count": null,
   "metadata": {
    "colab": {
     "base_uri": "https://localhost:8080/"
    },
    "id": "ChfIhW7gp02U",
    "outputId": "b3ac61c6-2989-46ef-c8ed-de0e1db9828f"
   },
   "outputs": [
    {
     "data": {
      "text/plain": [
       "array([0, 1])"
      ]
     },
     "execution_count": 186,
     "metadata": {
      "tags": []
     },
     "output_type": "execute_result"
    }
   ],
   "source": [
    "# Get the unique values of 'Survived' column\n",
    "data['Survived'].unique()"
   ]
  },
  {
   "cell_type": "code",
   "execution_count": null,
   "metadata": {
    "colab": {
     "base_uri": "https://localhost:8080/",
     "height": 500
    },
    "id": "XCupG7DIH0n8",
    "outputId": "e2faa017-28c0-4ad2-f4ee-035995e11aa5"
   },
   "outputs": [
    {
     "data": {
      "image/png": "[encoded data removed]",
      "text/plain": [
       "<Figure size 864x576 with 1 Axes>"
      ]
     },
     "metadata": {
      "tags": []
     },
     "output_type": "display_data"
    }
   ],
   "source": [
    "# Creating a countplot of 'Survived' \n",
    "sns.countplot(data = data, x = 'Survived', color = 'violet');"
   ]
  },
  {
   "cell_type": "markdown",
   "metadata": {
    "id": "K_LIXKdFp02a"
   },
   "source": [
    "# Appendix\n",
    "\n",
    "Data source: https://www.kaggle.com/hesh97/titanicdataset-traincsv\n",
    "\n",
    "Data license: CC0: Public Domain\n",
    "\n",
    "Material adapted for RBI internal purposes with full permissions from original authors. [Source](https://github.com/zatkopatrik/authentic-data-science) \n"
   ]
  }
 ],
 "metadata": {
  "colab": {
   "collapsed_sections": [],
   "name": "3_Practicing_With_Feature_Types.ipynb",
   "provenance": []
  },
  "kernelspec": {
   "display_name": "Python 3 (ipykernel)",
   "language": "python",
   "name": "python3"
  },
  "language_info": {
   "codemirror_mode": {
    "name": "ipython",
    "version": 3
   },
   "file_extension": ".py",
   "mimetype": "text/x-python",
   "name": "python",
   "nbconvert_exporter": "python",
   "pygments_lexer": "ipython3",
   "version": "3.7.12"
  }
 },
 "nbformat": 4,
 "nbformat_minor": 4
}
